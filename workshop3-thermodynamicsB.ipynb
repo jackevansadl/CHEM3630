{
  "nbformat": 4,
  "nbformat_minor": 0,
  "metadata": {
    "colab": {
      "provenance": [],
      "authorship_tag": "ABX9TyPr8Qk1qRro7wRX6cnym2pA",
      "include_colab_link": true
    },
    "kernelspec": {
      "name": "python3",
      "display_name": "Python 3"
    },
    "language_info": {
      "name": "python"
    }
  },
  "cells": [
    {
      "cell_type": "markdown",
      "metadata": {
        "id": "view-in-github",
        "colab_type": "text"
      },
      "source": [
        "<a href=\"https://colab.research.google.com/github/jackevansadl/CHEM3630/blob/main/workshop3-thermodynamicsB.ipynb\" target=\"_parent\"><img src=\"https://colab.research.google.com/assets/colab-badge.svg\" alt=\"Open In Colab\"/></a>"
      ]
    },
    {
      "cell_type": "markdown",
      "source": [
        "# B. Acid-Base Pairs\n",
        "Investigate the gas-phase acidity of __one__ other conjugate acid–base pairs from the list below (see Workshop Instructor for allocation of one of the acid-base pairs below) by calculating the standard Gibbs free energy for acid ionisation at 298.15 K.\n",
        "\n",
        "* formic acid\n",
        "* acetic acid\n",
        "* benzoic acid\n",
        "* phenol\n",
        "* methanol\n",
        "\n",
        "\n"
      ],
      "metadata": {
        "id": "jbfRH_Yr5ZiQ"
      }
    },
    {
      "cell_type": "markdown",
      "source": [
        "First we need to install the DFT codes (this will take a few minutes)"
      ],
      "metadata": {
        "id": "kDyU3_YJ7cBz"
      }
    },
    {
      "cell_type": "code",
      "source": [
        "!pip install -q condacolab"
      ],
      "metadata": {
        "id": "6GoP5nNMyqwD"
      },
      "execution_count": 1,
      "outputs": []
    },
    {
      "cell_type": "code",
      "source": [
        "import condacolab\n",
        "condacolab.install()"
      ],
      "metadata": {
        "colab": {
          "base_uri": "https://localhost:8080/"
        },
        "id": "c_x8mzXIyuL4",
        "outputId": "172241ad-9755-4473-8bde-ffdcc61e3492"
      },
      "execution_count": 2,
      "outputs": [
        {
          "output_type": "stream",
          "name": "stdout",
          "text": [
            "⏬ Downloading https://github.com/conda-forge/miniforge/releases/download/23.1.0-1/Mambaforge-23.1.0-1-Linux-x86_64.sh...\n",
            "📦 Installing...\n",
            "📌 Adjusting configuration...\n",
            "🩹 Patching environment...\n",
            "⏲ Done in 0:00:15\n",
            "🔁 Restarting kernel...\n"
          ]
        }
      ]
    },
    {
      "cell_type": "code",
      "source": [
        "! mamba install -c anaconda intel-openmp --quiet >/dev/null 2>&1\n",
        "! mamba install -c psi4 psi4 --quiet >/dev/null 2>&1\n",
        "! pip install -q ase >/dev/null 2>&1"
      ],
      "metadata": {
        "id": "jqez19FQyu3r"
      },
      "execution_count": null,
      "outputs": []
    },
    {
      "cell_type": "markdown",
      "source": [
        "### Instructions\n",
        "Use the __ase.build.molecule__ routine to create models of the acids and delete one atom to create the congugate base. "
      ],
      "metadata": {
        "id": "576ZNd9L58-Z"
      }
    },
    {
      "cell_type": "code",
      "source": [
        "from ase.build import molecule\n",
        "from ase import Atoms\n",
        "\n",
        "#code goes here"
      ],
      "metadata": {
        "id": "EV6bahWx2C5u"
      },
      "execution_count": null,
      "outputs": []
    },
    {
      "cell_type": "code",
      "source": [
        "#initalise dictionaries to save the results below\n",
        "h_results = {}\n",
        "acid_results = {}\n",
        "base_results = {}"
      ],
      "metadata": {
        "id": "4qtna34MVF6m"
      },
      "execution_count": null,
      "outputs": []
    },
    {
      "cell_type": "markdown",
      "source": [
        "Optimise each of the molecules using Psi4 at the _B3LYP/3-21G_ level of theory *with* the BFGS optimiser to maximum force of <0.01 eV/Å."
      ],
      "metadata": {
        "id": "zevQETYJ8V3L"
      }
    },
    {
      "cell_type": "code",
      "source": [
        "from ase.calculators.psi4 import Psi4\n",
        "\n",
        "# code goes here"
      ],
      "metadata": {
        "id": "Dk1bJt6fDJ7s"
      },
      "execution_count": null,
      "outputs": []
    },
    {
      "cell_type": "markdown",
      "source": [
        "For each of the optimised molecules compute the vibrational and thermodynamic properties using _ase.vibrations_ and _ase.thermochemistry_ codes and save the results to the dictionaries _base\\_results_ and _acid\\_results_\n",
        "\n",
        "For example:\n",
        "```python\n",
        "from ase.build import molecule\n",
        "from ase.calculators.emt import EMT\n",
        "from ase.optimize import QuasiNewton\n",
        "from ase.vibrations import Vibrations\n",
        "from ase.thermochemistry import IdealGasThermo\n",
        "\n",
        "atoms = molecule('N2')\n",
        "atoms.calc = Psi4()\n",
        "potentialenergy = atoms.get_potential_energy()\n",
        "\n",
        "vib = Vibrations(atoms)\n",
        "vib.run()\n",
        "vib_energies = vib.get_energies()\n",
        "\n",
        "thermo = IdealGasThermo(vib_energies=vib_energies,\n",
        "                        potentialenergy=potentialenergy,\n",
        "                        atoms=atoms,\n",
        "                        geometry='linear',\n",
        "                        symmetrynumber=2, spin=0)\n",
        "G = thermo.get_gibbs_energy(temperature=298.15, pressure=101325.)\n",
        "```"
      ],
      "metadata": {
        "id": "8QOBYjqk-YSc"
      }
    },
    {
      "cell_type": "markdown",
      "source": [
        "At this point you should have three dictionaries _h\\_results_, base\\_results_ and _acid\\_results_ that includes the electronic energy, enthalpy and entropy of these species.\n",
        "\n",
        "__Calculate the change in internal energy $\\Delta$U, the change in enthalpy $\\Delta$H, the entropy contribution T$\\Delta$S, and the Gibbs free energy change $\\Delta$G for the reaction (Eqns 23-27) and compare to your results for water.__\n"
      ],
      "metadata": {
        "id": "29Z2rBZ49vLr"
      }
    },
    {
      "cell_type": "code",
      "source": [
        "#answer for deltaU"
      ],
      "metadata": {
        "id": "zeUUP6SryLEp"
      },
      "execution_count": null,
      "outputs": []
    },
    {
      "cell_type": "code",
      "source": [
        "#answer for deltaH"
      ],
      "metadata": {
        "id": "Sio3owinyK5d"
      },
      "execution_count": null,
      "outputs": []
    },
    {
      "cell_type": "code",
      "source": [
        "#answer for deltaS"
      ],
      "metadata": {
        "id": "gkj8HBkVyKs-"
      },
      "execution_count": null,
      "outputs": []
    },
    {
      "cell_type": "code",
      "source": [
        "#answer for deltaG"
      ],
      "metadata": {
        "id": "JqtBLZZiyOdm"
      },
      "execution_count": null,
      "outputs": []
    },
    {
      "cell_type": "markdown",
      "source": [
        "_Your discussion_"
      ],
      "metadata": {
        "id": "CsNQo7CUsFus"
      }
    },
    {
      "cell_type": "markdown",
      "source": [
        "__Calculate K$_a$ and pK$_a$ at 298.15 K for the acid-ionisation reaction. Discuss how this compares with the experimentally determined value and why it might differ.__\n",
        "\n",
        "Experimental values at 298 K can be found in the NIST Chemistry WebBook (https://webbook.nist.gov/chemistry/). In the \"Gas phase ion energetics data\" section, search under for \"De- protonation Reactions\" for the acid, or \"Gas basicity\" for the conjugate base."
      ],
      "metadata": {
        "id": "ba05OW9ZyVuu"
      }
    },
    {
      "cell_type": "code",
      "source": [
        "#answer for Ka"
      ],
      "metadata": {
        "id": "zm_BCiX8ycle"
      },
      "execution_count": null,
      "outputs": []
    },
    {
      "cell_type": "code",
      "source": [
        "#answer for pKa"
      ],
      "metadata": {
        "id": "0qFMfV-zygUV"
      },
      "execution_count": null,
      "outputs": []
    },
    {
      "cell_type": "markdown",
      "source": [
        "_Your discussion_"
      ],
      "metadata": {
        "id": "X8NYggkuyqjf"
      }
    }
  ]
}