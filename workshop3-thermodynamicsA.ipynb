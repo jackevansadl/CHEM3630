{
  "nbformat": 4,
  "nbformat_minor": 0,
  "metadata": {
    "colab": {
      "provenance": [],
      "authorship_tag": "ABX9TyOqvdb0FThYMuBQgtkwSpmE",
      "include_colab_link": true
    },
    "kernelspec": {
      "name": "python3",
      "display_name": "Python 3"
    },
    "language_info": {
      "name": "python"
    }
  },
  "cells": [
    {
      "cell_type": "markdown",
      "metadata": {
        "id": "view-in-github",
        "colab_type": "text"
      },
      "source": [
        "<a href=\"https://colab.research.google.com/github/jackevansadl/CHEM3630/blob/main/workshop3-thermodynamicsA.ipynb\" target=\"_parent\"><img src=\"https://colab.research.google.com/assets/colab-badge.svg\" alt=\"Open In Colab\"/></a>"
      ]
    },
    {
      "cell_type": "markdown",
      "source": [
        "# Workshop 3: Thermodynamics of Gas-Phase Acidity\n",
        "\n",
        "##Overview\n",
        "Quantum chemical calculations will be used to investigate the thermodynamics of gas-phase proton abstraction reactions to determine the relative gas-phase acidities of water and other chemical species.\n",
        "\n",
        "## Background\n",
        "Reactions of acids or bases play important roles in many areas, from biology to chemistry to geology. According to the Brønsted–Lowry definition, an acid is a proton donor and a base is a proton acceptor.<a name=\"cite_ref-1\"></a>[<sup>[1]</sup>](#cite_note-1) A key property of an acid is its strength, or propensity to donate a proton, which is characterised by the equilibrium constant 𝐾a of the acid ionisation reaction.\n",
        "\n",
        "HA ⇌ H$^{+}$ + A$^{-}$ &emsp; &emsp; $K_a = \\frac{[\\mathrm{H}^+][\\mathrm{A}^-]}{[\\mathrm{H}\\mathrm{A}]}$ (1)\n",
        "\n",
        "where HA is the acid and A$^-$ is its conjugate base. The higher the value of 𝐾a, the greater the propensity of the acid to give up a proton and thus the stronger the acid. The acid-ionisation equilibrium constant can be calculated from the standard Gibbs free energy change ∆𝐺° for the acid ionisation reaction using:\n",
        "\n",
        "$ΔG^\\circ = -RT\\ln K_a$ (2)\n",
        "\n",
        "The standard Gibbs free energy change ∆𝐺° of a chemical reaction is the Gibbs free energy change ∆𝐺 in the case in which each reactant and product is at 1 atm pressure (for a gas) or 1 M concentration (for a solution).\n",
        "\n",
        "Measuring the acid-ionisation equilibrium constant can be experimentally challenging, particularly for weak acids with small equilibrium constants. Fortunately, the free energy change, and thus the acid-ionisation equilibrium constant, can be accurately calculated in many cases using quantum chemistry. This practical will use a particular type of quantum chemistry called density functional theory, DFT (as implemented in Psi4<a name=\"cite_ref-2\"></a>[<sup>[2]</sup>](#cite_note-2)) and the atomic simulation environment<a name=\"cite_ref-3\"></a>[<sup>[3]</sup>](#cite_note-3) to calculate the thermodynamics of acid ionisation. DFT is a method that calculates the ground-state electron density and electronic energy for a specified nuclear geometry.<a name=\"cite_ref-4\"></a>[<sup>[4]</sup>](#cite_note-4) The calculations are for molecules in the gas phase (i.e. not solvated), which can serve as a good starting point for more sophisticated calculations of the thermodynamics of acid ionisation in solution. Furthermore, gas-phase acidity and basicity play a significant role in important chemical processes, e.g. determining the propensity to form molecular ions of particular mass/charge ratios in mass spectrometry.<a name=\"cite_ref-5\"></a>[<sup>[5]</sup>](#cite_note-5)\n",
        "\n",
        "By varying the nuclear geometry to minimise the electronic energy in a process called geometry optimisation, the equilibrium geometry of a molecule at absolute zero temperature (0 K) can be determined. To calculate the total energy, enthalpy, or Gibbs free energy at finite (non-zero) temperature, contributions from translational, rotational, and vibrational degrees of freedom and the effect of finite temperature must be included. By calculating the electronic energy for small displacements of the atoms from the equilibrium geometry, the oscillation frequencies of the vibrational degrees of freedom (normal modes) of the molecule can be estimated using the harmonic oscillator approximation in a process called vibrational frequency analysis, from which quantum vibrational energies can be calculated. Using the electronic energy, equilibrium geometry, and vibrational frequencies from these quantum-chemical calculations, along with the molecular weight, in equations derived from statistical mechanics, the thermodynamics at finite temperature can be calculated.\n",
        "\n",
        "## Goals and Objectives\n",
        "_Overall Goals_:\n",
        "1. Learn how quantum chemical calculations can be used to investigate the geometry, electronic structure, and\n",
        "thermochemistry of a simple molecular system.\n",
        "2. Understand the output of quantum chemical calculations.\n",
        "3. Use the theory of statistical mechanics to understand how the translational, vibrational, and electronic contributions to the average energy of an isolated molecule at a given temperature is calculated from molecular parameters and the single-molecule canonical partition function.\n",
        "4. Evaluate the importance of translational, rotational, and/or vibrational contributions and/or finite-temperature corrections to the thermodynamics of chemical reactions.\n",
        "5. Understand the relationship between energy, enthalpy, and Gibbs free energy.\n",
        "6. Discuss the gas-phase acidity of a molecular species in terms of its molecular structure.\n",
        "\n",
        "##Specific Objectives:\n",
        "1. Build and optimise molecules using quantum chemical calculations.\n",
        "2. Extract the energies, geometries and vibrational frequencies of conjugate acid–base pairs from quantum chemical calculations.\n",
        "2. Determine the standard Gibbs free energy change and equilibrium constant for acid ionisation in the gas phase for several acids.\n",
        "3. Compare the calculated gas-phase acidities of different acids and compare the calculated values with experimentally measured values.\n",
        "\n",
        "---\n",
        "<a name=\"cite_note-1\"></a>1. [^](#cite_ref-1)  A. Blackman, S.E. Bottle, S. Schmid, M. Mocerino, U. Wille, Chemistry (3e), Wiley, 2015.\n",
        "\n",
        "<a name=\"cite_note-2\"></a>2. [^](#cite_ref-2)  https://psicode.org\n",
        "\n",
        "<a name=\"cite_note-3\"></a>3. [^](#cite_ref-3)  https://wiki.fysik.dtu.dk/ase/\n",
        "\n",
        "<a name=\"cite_note-4\"></a>4. [^](#cite_ref-5)  D.S. Sholl, J.A. Steckel, Density Functional Theory: A Practical Introducton, Wiley-Interscience, 2009.\n",
        "\n",
        "<a name=\"cite_note-5\"></a>5. [^](#cite_ref-5)  A.G. Harrison, Mass Spectrometry Reviews 16, 201–217 (1997)"
      ],
      "metadata": {
        "id": "xKR_ohHhG3ir"
      }
    },
    {
      "cell_type": "markdown",
      "source": [
        "# A. Autoionisation of Water\n",
        "Combined geometry optimisation and vibrational frequency calculations will be performed for water and its conjugate base, the hydroxide ion, using DFT (at the _B3LYP/6-31+G(d)_ level of theory). Use the results of these calculations to calculate the change in energy, standard enthalpy, and standard Gibbs free energy for the gas- phase acid ionisation of water at 298.15 K (25$^\\circ$C)."
      ],
      "metadata": {
        "id": "jbfRH_Yr5ZiQ"
      }
    },
    {
      "cell_type": "markdown",
      "source": [
        "First we need to install the DFT codes (this will take a few minutes)"
      ],
      "metadata": {
        "id": "kDyU3_YJ7cBz"
      }
    },
    {
      "cell_type": "code",
      "source": [
        "!pip install -q condacolab"
      ],
      "metadata": {
        "id": "6GoP5nNMyqwD"
      },
      "execution_count": 1,
      "outputs": []
    },
    {
      "cell_type": "code",
      "source": [
        "import condacolab\n",
        "condacolab.install()"
      ],
      "metadata": {
        "colab": {
          "base_uri": "https://localhost:8080/"
        },
        "id": "c_x8mzXIyuL4",
        "outputId": "fcc9f3bc-0559-4ca1-afa4-8601a5d1f436"
      },
      "execution_count": 2,
      "outputs": [
        {
          "output_type": "stream",
          "name": "stdout",
          "text": [
            "⏬ Downloading https://github.com/jaimergp/miniforge/releases/latest/download/Mambaforge-colab-Linux-x86_64.sh...\n",
            "📦 Installing...\n",
            "📌 Adjusting configuration...\n",
            "🩹 Patching environment...\n",
            "⏲ Done in 0:00:24\n",
            "🔁 Restarting kernel...\n"
          ]
        }
      ]
    },
    {
      "cell_type": "code",
      "source": [
        "! mamba install -c anaconda intel-openmp --quiet >/dev/null 2>&1\n",
        "! mamba install -c psi4 psi4 --quiet >/dev/null 2>&1\n",
        "! pip install -q ase >/dev/null 2>&1"
      ],
      "metadata": {
        "id": "jqez19FQyu3r"
      },
      "execution_count": 3,
      "outputs": []
    },
    {
      "cell_type": "markdown",
      "source": [
        "The _ase_ (atomic simulation environment) library has routines for describing molecules and interfaces with DFT software. For example, we can either describe a molecule using a string ('H2O') or by explicitly listing the position of atoms."
      ],
      "metadata": {
        "id": "576ZNd9L58-Z"
      }
    },
    {
      "cell_type": "code",
      "source": [
        "from ase.build import molecule\n",
        "from ase import Atoms\n",
        "\n",
        "water = molecule('H2O')\n",
        "\n",
        "d=0.97\n",
        "ohminus = Atoms('OH', positions=([0-d/2,0,0],[0+d/2,0,0]), charges=[-1,0])\n",
        "\n",
        "hplus = molecule('H')\n",
        "hplus.set_initial_charges([+1])\n",
        "\n",
        "molecules = [water, ohminus]"
      ],
      "metadata": {
        "id": "EV6bahWx2C5u"
      },
      "execution_count": 2,
      "outputs": []
    },
    {
      "cell_type": "code",
      "source": [
        "#initalise dictionaries to save the results below\n",
        "h_results = {}\n",
        "oh_results = {}\n",
        "h2o_results = {}"
      ],
      "metadata": {
        "id": "4qtna34MVF6m"
      },
      "execution_count": 3,
      "outputs": []
    },
    {
      "cell_type": "markdown",
      "source": [
        "Computing the energy for H$^{+}$ is doesn't require any geometry optimisation (it's only one atom).\n",
        "\n",
        "The calculation parameters are loaded with the Psi4 object. Check out https://wiki.fysik.dtu.dk/ase/ase/calculators/psi4.html for the full list of options. **There is an error in the parameters below!**"
      ],
      "metadata": {
        "id": "zevQETYJ8V3L"
      }
    },
    {
      "cell_type": "code",
      "source": [
        "from ase.calculators.psi4 import Psi4\n",
        "calc = Psi4(atoms = hplus,\n",
        "            method = 'b3lyp',\n",
        "            memory = '500MB', # this is the default, be aware!\n",
        "            basis = '6-31+G(d)',\n",
        "            charge = 0,\n",
        "            multiplicity=1,\n",
        "            label = hplus.get_chemical_formula())\n",
        "\n",
        "hplus.calc = calc\n",
        "print(hplus.get_potential_energy())\n",
        "h_results['energy'] = hplus.get_potential_energy()"
      ],
      "metadata": {
        "colab": {
          "base_uri": "https://localhost:8080/",
          "height": 477
        },
        "id": "Dk1bJt6fDJ7s",
        "outputId": "aa5e20f7-f31b-4e9b-b602-31541228ccb1"
      },
      "execution_count": 6,
      "outputs": [
        {
          "output_type": "stream",
          "name": "stdout",
          "text": [
            "\n",
            "\n",
            "c: [0]\n",
            "fc: [0.0]\n",
            "m: [1]\n",
            "fm: [1]\n"
          ]
        },
        {
          "output_type": "error",
          "ename": "ValidationError",
          "evalue": "ignored",
          "traceback": [
            "\u001b[0;31m---------------------------------------------------------------------------\u001b[0m",
            "\u001b[0;31mValidationError\u001b[0m                           Traceback (most recent call last)",
            "\u001b[0;32m<ipython-input-6-decf4ce160c4>\u001b[0m in \u001b[0;36m<cell line: 2>\u001b[0;34m()\u001b[0m\n\u001b[1;32m      1\u001b[0m \u001b[0;32mfrom\u001b[0m \u001b[0mase\u001b[0m\u001b[0;34m.\u001b[0m\u001b[0mcalculators\u001b[0m\u001b[0;34m.\u001b[0m\u001b[0mpsi4\u001b[0m \u001b[0;32mimport\u001b[0m \u001b[0mPsi4\u001b[0m\u001b[0;34m\u001b[0m\u001b[0;34m\u001b[0m\u001b[0m\n\u001b[0;32m----> 2\u001b[0;31m calc = Psi4(atoms = hplus,\n\u001b[0m\u001b[1;32m      3\u001b[0m             \u001b[0mmethod\u001b[0m \u001b[0;34m=\u001b[0m \u001b[0;34m'b3lyp'\u001b[0m\u001b[0;34m,\u001b[0m\u001b[0;34m\u001b[0m\u001b[0;34m\u001b[0m\u001b[0m\n\u001b[1;32m      4\u001b[0m             \u001b[0mmemory\u001b[0m \u001b[0;34m=\u001b[0m \u001b[0;34m'500MB'\u001b[0m\u001b[0;34m,\u001b[0m \u001b[0;31m# this is the default, be aware!\u001b[0m\u001b[0;34m\u001b[0m\u001b[0;34m\u001b[0m\u001b[0m\n\u001b[1;32m      5\u001b[0m             \u001b[0mbasis\u001b[0m \u001b[0;34m=\u001b[0m \u001b[0;34m'6-31+G(d)'\u001b[0m\u001b[0;34m,\u001b[0m\u001b[0;34m\u001b[0m\u001b[0;34m\u001b[0m\u001b[0m\n",
            "\u001b[0;32m/usr/local/lib/python3.9/site-packages/ase/calculators/psi4.py\u001b[0m in \u001b[0;36m__init__\u001b[0;34m(self, restart, ignore_bad_restart, label, atoms, command, **kwargs)\u001b[0m\n\u001b[1;32m     44\u001b[0m         \u001b[0mself\u001b[0m\u001b[0;34m.\u001b[0m\u001b[0mpsi4\u001b[0m \u001b[0;34m=\u001b[0m \u001b[0mpsi4\u001b[0m\u001b[0;34m\u001b[0m\u001b[0;34m\u001b[0m\u001b[0m\n\u001b[1;32m     45\u001b[0m         \u001b[0;31m# perform initial setup of psi4 python API\u001b[0m\u001b[0;34m\u001b[0m\u001b[0;34m\u001b[0m\u001b[0m\n\u001b[0;32m---> 46\u001b[0;31m         \u001b[0mself\u001b[0m\u001b[0;34m.\u001b[0m\u001b[0mset_psi4\u001b[0m\u001b[0;34m(\u001b[0m\u001b[0matoms\u001b[0m\u001b[0;34m=\u001b[0m\u001b[0matoms\u001b[0m\u001b[0;34m)\u001b[0m\u001b[0;34m\u001b[0m\u001b[0;34m\u001b[0m\u001b[0m\n\u001b[0m\u001b[1;32m     47\u001b[0m \u001b[0;34m\u001b[0m\u001b[0m\n\u001b[1;32m     48\u001b[0m     \u001b[0;32mdef\u001b[0m \u001b[0mset_psi4\u001b[0m\u001b[0;34m(\u001b[0m\u001b[0mself\u001b[0m\u001b[0;34m,\u001b[0m \u001b[0matoms\u001b[0m\u001b[0;34m=\u001b[0m\u001b[0;32mNone\u001b[0m\u001b[0;34m)\u001b[0m\u001b[0;34m:\u001b[0m\u001b[0;34m\u001b[0m\u001b[0;34m\u001b[0m\u001b[0m\n",
            "\u001b[0;32m/usr/local/lib/python3.9/site-packages/ase/calculators/psi4.py\u001b[0m in \u001b[0;36mset_psi4\u001b[0;34m(self, atoms)\u001b[0m\n\u001b[1;32m    124\u001b[0m         \u001b[0;32mif\u001b[0m \u001b[0;32mnot\u001b[0m \u001b[0mos\u001b[0m\u001b[0;34m.\u001b[0m\u001b[0mpath\u001b[0m\u001b[0;34m.\u001b[0m\u001b[0misdir\u001b[0m\u001b[0;34m(\u001b[0m\u001b[0mself\u001b[0m\u001b[0;34m.\u001b[0m\u001b[0mdirectory\u001b[0m\u001b[0;34m)\u001b[0m\u001b[0;34m:\u001b[0m\u001b[0;34m\u001b[0m\u001b[0;34m\u001b[0m\u001b[0m\n\u001b[1;32m    125\u001b[0m             \u001b[0mos\u001b[0m\u001b[0;34m.\u001b[0m\u001b[0mmkdir\u001b[0m\u001b[0;34m(\u001b[0m\u001b[0mself\u001b[0m\u001b[0;34m.\u001b[0m\u001b[0mdirectory\u001b[0m\u001b[0;34m)\u001b[0m\u001b[0;34m\u001b[0m\u001b[0;34m\u001b[0m\u001b[0m\n\u001b[0;32m--> 126\u001b[0;31m         \u001b[0mself\u001b[0m\u001b[0;34m.\u001b[0m\u001b[0mmolecule\u001b[0m \u001b[0;34m=\u001b[0m \u001b[0mself\u001b[0m\u001b[0;34m.\u001b[0m\u001b[0mpsi4\u001b[0m\u001b[0;34m.\u001b[0m\u001b[0mgeometry\u001b[0m\u001b[0;34m(\u001b[0m\u001b[0;34m'\\n'\u001b[0m\u001b[0;34m.\u001b[0m\u001b[0mjoin\u001b[0m\u001b[0;34m(\u001b[0m\u001b[0mgeom\u001b[0m\u001b[0;34m)\u001b[0m\u001b[0;34m)\u001b[0m\u001b[0;34m\u001b[0m\u001b[0;34m\u001b[0m\u001b[0m\n\u001b[0m\u001b[1;32m    127\u001b[0m \u001b[0;34m\u001b[0m\u001b[0m\n\u001b[1;32m    128\u001b[0m     \u001b[0;32mdef\u001b[0m \u001b[0mread\u001b[0m\u001b[0;34m(\u001b[0m\u001b[0mself\u001b[0m\u001b[0;34m,\u001b[0m \u001b[0mlabel\u001b[0m\u001b[0;34m)\u001b[0m\u001b[0;34m:\u001b[0m\u001b[0;34m\u001b[0m\u001b[0;34m\u001b[0m\u001b[0m\n",
            "\u001b[0;32m/usr/local/lib/python3.9/site-packages/psi4/driver/molutil.py\u001b[0m in \u001b[0;36mgeometry\u001b[0;34m(geom, name)\u001b[0m\n\u001b[1;32m    257\u001b[0m \u001b[0;34m\u001b[0m\u001b[0m\n\u001b[1;32m    258\u001b[0m     \"\"\"\n\u001b[0;32m--> 259\u001b[0;31m     molrec = qcel.molparse.from_string(\n\u001b[0m\u001b[1;32m    260\u001b[0m         geom, enable_qm=True, missing_enabled_return_qm='minimal', enable_efp=True, missing_enabled_return_efp='none')\n\u001b[1;32m    261\u001b[0m \u001b[0;34m\u001b[0m\u001b[0m\n",
            "\u001b[0;32m/usr/local/lib/python3.9/site-packages/qcelemental/molparse/from_string.py\u001b[0m in \u001b[0;36mfrom_string\u001b[0;34m(molstr, dtype, name, fix_com, fix_orientation, fix_symmetry, return_processed, enable_qm, enable_efp, missing_enabled_return_qm, missing_enabled_return_efp, verbose)\u001b[0m\n\u001b[1;32m    274\u001b[0m \u001b[0;34m\u001b[0m\u001b[0m\n\u001b[1;32m    275\u001b[0m     \u001b[0;31m# << 4 >>  dict-->molspec\u001b[0m\u001b[0;34m\u001b[0m\u001b[0;34m\u001b[0m\u001b[0m\n\u001b[0;32m--> 276\u001b[0;31m     molrec = from_input_arrays(\n\u001b[0m\u001b[1;32m    277\u001b[0m         \u001b[0mspeclabel\u001b[0m\u001b[0;34m=\u001b[0m\u001b[0;32mTrue\u001b[0m\u001b[0;34m,\u001b[0m\u001b[0;34m\u001b[0m\u001b[0;34m\u001b[0m\u001b[0m\n\u001b[1;32m    278\u001b[0m         \u001b[0menable_qm\u001b[0m\u001b[0;34m=\u001b[0m\u001b[0menable_qm\u001b[0m\u001b[0;34m,\u001b[0m\u001b[0;34m\u001b[0m\u001b[0;34m\u001b[0m\u001b[0m\n",
            "\u001b[0;32m/usr/local/lib/python3.9/site-packages/qcelemental/molparse/from_arrays.py\u001b[0m in \u001b[0;36mfrom_input_arrays\u001b[0;34m(enable_qm, enable_efp, missing_enabled_return_qm, missing_enabled_return_efp, geom, elea, elez, elem, mass, real, elbl, name, units, input_units_to_au, fix_com, fix_orientation, fix_symmetry, fragment_separators, fragment_charges, fragment_multiplicities, molecular_charge, molecular_multiplicity, fragment_files, hint_types, geom_hints, geom_unsettled, variables, speclabel, tooclose, zero_ghost_fragments, nonphysical, mtol, copy, verbose)\u001b[0m\n\u001b[1;32m     95\u001b[0m     \u001b[0;32mif\u001b[0m \u001b[0menable_qm\u001b[0m\u001b[0;34m:\u001b[0m\u001b[0;34m\u001b[0m\u001b[0;34m\u001b[0m\u001b[0m\n\u001b[1;32m     96\u001b[0m         \u001b[0mdm\u001b[0m \u001b[0;34m=\u001b[0m \u001b[0;34m\"qmvz\"\u001b[0m \u001b[0;32mif\u001b[0m \u001b[0mgeom_unsettled\u001b[0m \u001b[0;32melse\u001b[0m \u001b[0;34m\"qm\"\u001b[0m\u001b[0;34m\u001b[0m\u001b[0;34m\u001b[0m\u001b[0m\n\u001b[0;32m---> 97\u001b[0;31m         processed = from_arrays(\n\u001b[0m\u001b[1;32m     98\u001b[0m             \u001b[0mdomain\u001b[0m\u001b[0;34m=\u001b[0m\u001b[0mdm\u001b[0m\u001b[0;34m,\u001b[0m\u001b[0;34m\u001b[0m\u001b[0;34m\u001b[0m\u001b[0m\n\u001b[1;32m     99\u001b[0m             \u001b[0mmissing_enabled_return\u001b[0m\u001b[0;34m=\u001b[0m\u001b[0mmissing_enabled_return_qm\u001b[0m\u001b[0;34m,\u001b[0m\u001b[0;34m\u001b[0m\u001b[0;34m\u001b[0m\u001b[0m\n",
            "\u001b[0;32m/usr/local/lib/python3.9/site-packages/qcelemental/molparse/from_arrays.py\u001b[0m in \u001b[0;36mfrom_arrays\u001b[0;34m(geom, elea, elez, elem, mass, real, elbl, name, units, input_units_to_au, fix_com, fix_orientation, fix_symmetry, fragment_separators, fragment_charges, fragment_multiplicities, molecular_charge, molecular_multiplicity, comment, provenance, connectivity, fragment_files, hint_types, geom_hints, geom_unsettled, variables, domain, missing_enabled_return, np_out, speclabel, tooclose, zero_ghost_fragments, nonphysical, mtol, copy, verbose)\u001b[0m\n\u001b[1;32m    378\u001b[0m \u001b[0;34m\u001b[0m\u001b[0m\n\u001b[1;32m    379\u001b[0m         \u001b[0mZ_available\u001b[0m \u001b[0;34m=\u001b[0m \u001b[0mmolinit\u001b[0m\u001b[0;34m[\u001b[0m\u001b[0;34m\"elez\"\u001b[0m\u001b[0;34m]\u001b[0m \u001b[0;34m*\u001b[0m \u001b[0mmolinit\u001b[0m\u001b[0;34m[\u001b[0m\u001b[0;34m\"real\"\u001b[0m\u001b[0;34m]\u001b[0m \u001b[0;34m*\u001b[0m \u001b[0;36m1.0\u001b[0m\u001b[0;34m\u001b[0m\u001b[0;34m\u001b[0m\u001b[0m\n\u001b[0;32m--> 380\u001b[0;31m         processed = validate_and_fill_chgmult(\n\u001b[0m\u001b[1;32m    381\u001b[0m             \u001b[0mzeff\u001b[0m\u001b[0;34m=\u001b[0m\u001b[0mZ_available\u001b[0m\u001b[0;34m,\u001b[0m\u001b[0;34m\u001b[0m\u001b[0;34m\u001b[0m\u001b[0m\n\u001b[1;32m    382\u001b[0m             \u001b[0mfragment_separators\u001b[0m\u001b[0;34m=\u001b[0m\u001b[0mmolinit\u001b[0m\u001b[0;34m[\u001b[0m\u001b[0;34m\"fragment_separators\"\u001b[0m\u001b[0;34m]\u001b[0m\u001b[0;34m,\u001b[0m\u001b[0;34m\u001b[0m\u001b[0;34m\u001b[0m\u001b[0m\n",
            "\u001b[0;32m/usr/local/lib/python3.9/site-packages/qcelemental/molparse/chgmult.py\u001b[0m in \u001b[0;36mvalidate_and_fill_chgmult\u001b[0;34m(zeff, fragment_separators, molecular_charge, fragment_charges, molecular_multiplicity, fragment_multiplicities, zero_ghost_fragments, verbose)\u001b[0m\n\u001b[1;32m    499\u001b[0m     \u001b[0;31m#      long in the itertools.product\u001b[0m\u001b[0;34m\u001b[0m\u001b[0;34m\u001b[0m\u001b[0m\n\u001b[1;32m    500\u001b[0m \u001b[0;34m\u001b[0m\u001b[0m\n\u001b[0;32m--> 501\u001b[0;31m     \u001b[0mc_final\u001b[0m\u001b[0;34m,\u001b[0m \u001b[0mfc_final\u001b[0m\u001b[0;34m,\u001b[0m \u001b[0mm_final\u001b[0m\u001b[0;34m,\u001b[0m \u001b[0mfm_final\u001b[0m \u001b[0;34m=\u001b[0m \u001b[0mreconcile\u001b[0m\u001b[0;34m(\u001b[0m\u001b[0mcgmp_exact_c\u001b[0m\u001b[0;34m,\u001b[0m \u001b[0mcgmp_exact_fc\u001b[0m\u001b[0;34m,\u001b[0m \u001b[0mcgmp_exact_m\u001b[0m\u001b[0;34m,\u001b[0m \u001b[0mcgmp_exact_fm\u001b[0m\u001b[0;34m)\u001b[0m\u001b[0;34m\u001b[0m\u001b[0;34m\u001b[0m\u001b[0m\n\u001b[0m\u001b[1;32m    502\u001b[0m \u001b[0;34m\u001b[0m\u001b[0m\n\u001b[1;32m    503\u001b[0m     \u001b[0mc_text\u001b[0m \u001b[0;34m=\u001b[0m \u001b[0mstringify\u001b[0m\u001b[0;34m(\u001b[0m\u001b[0mmolecular_charge\u001b[0m\u001b[0;34m,\u001b[0m \u001b[0mc_final\u001b[0m\u001b[0;34m)\u001b[0m\u001b[0;34m\u001b[0m\u001b[0;34m\u001b[0m\u001b[0m\n",
            "\u001b[0;32m/usr/local/lib/python3.9/site-packages/qcelemental/molparse/chgmult.py\u001b[0m in \u001b[0;36mreconcile\u001b[0;34m(exact_c, exact_fc, exact_m, exact_fm)\u001b[0m\n\u001b[1;32m    489\u001b[0m         \u001b[0;32mif\u001b[0m \u001b[0mverbose\u001b[0m \u001b[0;34m>\u001b[0m \u001b[0;34m-\u001b[0m\u001b[0;36m1\u001b[0m\u001b[0;34m:\u001b[0m\u001b[0;34m\u001b[0m\u001b[0;34m\u001b[0m\u001b[0m\n\u001b[1;32m    490\u001b[0m             \u001b[0mprint\u001b[0m\u001b[0;34m(\u001b[0m\u001b[0;34m\"\\n\\n\"\u001b[0m \u001b[0;34m+\u001b[0m \u001b[0;34m\"\\n\"\u001b[0m\u001b[0;34m.\u001b[0m\u001b[0mjoin\u001b[0m\u001b[0;34m(\u001b[0m\u001b[0mtext\u001b[0m\u001b[0;34m)\u001b[0m\u001b[0;34m)\u001b[0m\u001b[0;34m\u001b[0m\u001b[0;34m\u001b[0m\u001b[0m\n\u001b[0;32m--> 491\u001b[0;31m         \u001b[0;32mraise\u001b[0m \u001b[0mValidationError\u001b[0m\u001b[0;34m(\u001b[0m\u001b[0merr\u001b[0m\u001b[0;34m)\u001b[0m\u001b[0;34m\u001b[0m\u001b[0;34m\u001b[0m\u001b[0m\n\u001b[0m\u001b[1;32m    492\u001b[0m \u001b[0;34m\u001b[0m\u001b[0m\n\u001b[1;32m    493\u001b[0m     \u001b[0;32mdef\u001b[0m \u001b[0mstringify\u001b[0m\u001b[0;34m(\u001b[0m\u001b[0mstart\u001b[0m\u001b[0;34m,\u001b[0m \u001b[0mfinal\u001b[0m\u001b[0;34m)\u001b[0m\u001b[0;34m:\u001b[0m\u001b[0;34m\u001b[0m\u001b[0;34m\u001b[0m\u001b[0m\n",
            "\u001b[0;31mValidationError\u001b[0m: Inconsistent or unspecified chg/mult: sys chg: None, frag chg: [0.0], sys mult: None, frag mult: [1]"
          ]
        }
      ]
    },
    {
      "cell_type": "markdown",
      "source": [
        "__What is the energy for H$^+$ and in which units?__\n",
        "\n",
        " Answer:"
      ],
      "metadata": {
        "id": "8QOBYjqk-YSc"
      }
    },
    {
      "cell_type": "markdown",
      "source": [
        "For molecules we need to first optimise the atom positions to find the lowest energy positons. The calculation optimises the molecular structure through a series of geometry optimisation steps."
      ],
      "metadata": {
        "id": "29Z2rBZ49vLr"
      }
    },
    {
      "cell_type": "code",
      "source": [
        "from ase.calculators.psi4 import Psi4\n",
        "from ase.build import molecule\n",
        "import numpy as np\n",
        "from ase.optimize import QuasiNewton\n",
        "\n",
        "optimised_molecules = []\n",
        "for atoms in molecules:\n",
        "  print(atoms.get_chemical_formula())\n",
        "  calc = Psi4(atoms = atoms,\n",
        "        method = 'b3lyp',\n",
        "        memory = '500MB', # this is the default, be aware!\n",
        "        basis = '6-31+G(d)',\n",
        "\n",
        "        charge = np.sum(atoms.get_initial_charges()),\n",
        "        multiplicity=1,\n",
        "        label = atoms.get_chemical_formula())\n",
        "\n",
        "  atoms.calc = calc\n",
        "\n",
        "  QuasiNewton(atoms).run(fmax=0.0005)\n",
        "\n",
        "  #save results\n",
        "  if atoms.get_chemical_formula() == 'HO':\n",
        "      oh_results['energy'] = atoms.get_potential_energy()\n",
        "  if atoms.get_chemical_formula() == 'H2O':\n",
        "      h2o_results['energy'] = atoms.get_potential_energy()\n",
        "  print(atoms.get_potential_energy())\n",
        "  optimised_molecules.append(atoms)"
      ],
      "metadata": {
        "colab": {
          "base_uri": "https://localhost:8080/"
        },
        "id": "Pf25cQL23Qmj",
        "outputId": "9591cb68-c098-48c6-8732-5d0eb946dbdf"
      },
      "execution_count": 4,
      "outputs": [
        {
          "output_type": "stream",
          "name": "stdout",
          "text": [
            "H2O\n",
            "                Step[ FC]     Time          Energy          fmax\n",
            "BFGSLineSearch:    0[  0] 03:06:05    -2079.562595        0.1365\n",
            "BFGSLineSearch:    1[  2] 03:06:12    -2079.564058        0.0820\n",
            "BFGSLineSearch:    2[  4] 03:06:22    -2079.564177        0.0003\n",
            "-2079.564177172808\n",
            "HO\n",
            "                Step[ FC]     Time          Energy          fmax\n",
            "BFGSLineSearch:    0[  0] 03:06:26    -2062.532144        0.2308\n",
            "BFGSLineSearch:    1[  2] 03:06:31    -2062.532703        0.0012\n",
            "BFGSLineSearch:    2[  3] 03:06:33    -2062.532703        0.0000\n",
            "-2062.5327029104765\n"
          ]
        }
      ]
    },
    {
      "cell_type": "markdown",
      "source": [
        " __What is the convergence criteria used here (Don't forget the units)?__\n",
        "\n",
        " Answer:\n",
        "\n",
        "  __What optimiser is used here and what alternatives are there?__\n",
        "\n",
        " Answer:"
      ],
      "metadata": {
        "id": "25g2leaA_Q0w"
      }
    },
    {
      "cell_type": "markdown",
      "source": [
        "The output displayed is only a snapshot of important quantities. The files _H.dat_, _HO.dat_ and _H20.dat_ have the raw output from the _Psi4_ sofware. Check the files tab on the left side of the browser.\n",
        "\n",
        "__Open the *H2O.dat* file and search the detailed ouput. Which point group symmetry is used here?__\n",
        "\n",
        "Answer:"
      ],
      "metadata": {
        "id": "5utaRnVAAhLB"
      }
    },
    {
      "cell_type": "markdown",
      "source": [
        "Using the harmonic oscilator approximation the vibrational degrees of freedom (normal modes) of these molecules can be computed."
      ],
      "metadata": {
        "id": "V-gB-tVUG10D"
      }
    },
    {
      "cell_type": "code",
      "source": [
        "from ase.vibrations import Vibrations\n",
        "#save the results in a list for later processing\n",
        "vibs = []\n",
        "for atoms in optimised_molecules:\n",
        "  print(atoms.get_chemical_formula())\n",
        "  vib = Vibrations(atoms, name=atoms.get_chemical_formula(), delta=0.01)\n",
        "  vib.clean()\n",
        "  vib.run()\n",
        "  vib.write_mode(0)\n",
        "  vib.write_mode(-1)\n",
        "  vib.summary()\n",
        "  vibs.append(vib)\n"
      ],
      "metadata": {
        "colab": {
          "base_uri": "https://localhost:8080/"
        },
        "id": "a3ZDwsR85ipz",
        "outputId": "c06fcf48-0091-424f-e9dd-bf94d1b3d9d5"
      },
      "execution_count": 5,
      "outputs": [
        {
          "output_type": "stream",
          "name": "stdout",
          "text": [
            "H2O\n",
            "---------------------\n",
            "  #    meV     cm^-1\n",
            "---------------------\n",
            "  0    6.3i     51.1i\n",
            "  1    0.3i      2.8i\n",
            "  2    0.2i      1.6i\n",
            "  3    0.1       0.8\n",
            "  4    3.3      26.7\n",
            "  5    3.4      27.6\n",
            "  6  206.0    1661.8\n",
            "  7  463.2    3736.1\n",
            "  8  478.6    3860.4\n",
            "---------------------\n",
            "Zero-point energy: 0.577 eV\n",
            "HO\n",
            "---------------------\n",
            "  #    meV     cm^-1\n",
            "---------------------\n",
            "  0    0.0i      0.0i\n",
            "  1    0.0i      0.0i\n",
            "  2    0.0i      0.0i\n",
            "  3    3.3      26.7\n",
            "  4    3.3      26.7\n",
            "  5  453.3    3656.3\n",
            "---------------------\n",
            "Zero-point energy: 0.230 eV\n"
          ]
        }
      ]
    },
    {
      "cell_type": "markdown",
      "source": [
        "The modes as displayed include translational and rotational movements that leads low energy negative frequences, these can be ignored."
      ],
      "metadata": {
        "id": "wB4Ucs3eH2Dh"
      }
    },
    {
      "cell_type": "markdown",
      "source": [
        "The trajectory of the 0th mode was saved (_H2O.0.traj_) download this to your local computer. You can view this using the _view_ routine in _ase__ as demonstrated in **['workshop3-view.ipynb'](https://colab.research.google.com/github/jackevansadl/CHEM3630/blob/main/workshop3-view.ipynb)**."
      ],
      "metadata": {
        "id": "zs7lVPKjIufi"
      }
    },
    {
      "cell_type": "markdown",
      "source": [
        "__What do the 8th vibrational mode of H2O and the 5th mode of HO relate to?__.\n",
        "_You may need to reload the output of the **['workshop3-view.ipynb'](https://colab.research.google.com/github/jackevansadl/CHEM3630/blob/main/workshop3-view.ipynb)** notebook_"
      ],
      "metadata": {
        "id": "ApbzV6ayJg1G"
      }
    },
    {
      "cell_type": "markdown",
      "source": [
        "_Answer:_"
      ],
      "metadata": {
        "id": "Gy9H6kWQTbPd"
      }
    },
    {
      "cell_type": "markdown",
      "source": [
        "The _thermochemistry_ routines of ASE can be used to compute several thermodynamic quantites from the normal modes using the ideal gas approximation. An example for H2O is shown below: "
      ],
      "metadata": {
        "id": "8yTeqsMBZD9X"
      }
    },
    {
      "cell_type": "code",
      "source": [
        "from ase.thermochemistry import IdealGasThermo\n",
        "# the 0th entry is h2o\n",
        "atoms = optimised_molecules[0]\n",
        "potentialenergy = atoms.get_potential_energy()\n",
        "vib = vibs[0]\n",
        "vib_energies = vib.get_energies()\n",
        "\n",
        "\n",
        "thermo = IdealGasThermo(vib_energies=vib_energies,\n",
        "                        potentialenergy=potentialenergy,\n",
        "                        atoms=atoms,\n",
        "                        geometry='linear',\n",
        "                        symmetrynumber=2, spin=0)\n",
        "G = thermo.get_gibbs_energy(temperature=298.15, pressure=101325.)\n",
        "H = thermo.get_enthalpy(temperature=298.15, verbose=False)\n",
        "S = thermo.get_entropy(temperature=298.15, pressure=101325., verbose=False)\n",
        "h2o_results['gibbs_energy'] = G\n",
        "h2o_results['enthalpy'] = H\n",
        "h2o_results['entropy'] = S"
      ],
      "metadata": {
        "id": "7hs7P75iZ_ZR",
        "outputId": "3f975f04-2e5e-48e6-f61d-a0b230f045e9",
        "colab": {
          "base_uri": "https://localhost:8080/"
        }
      },
      "execution_count": 8,
      "outputs": [
        {
          "output_type": "stream",
          "name": "stdout",
          "text": [
            "Enthalpy components at T = 298.15 K:\n",
            "===============================\n",
            "E_pot              -2079.564 eV\n",
            "E_ZPE                  0.576 eV\n",
            "Cv_trans (0->T)        0.039 eV\n",
            "Cv_rot (0->T)          0.026 eV\n",
            "Cv_vib (0->T)          0.024 eV\n",
            "(C_v -> C_p)           0.026 eV\n",
            "-------------------------------\n",
            "H                  -2078.875 eV\n",
            "===============================\n",
            "\n",
            "Entropy components at T = 298.15 K and P = 101325.0 Pa:\n",
            "=================================================\n",
            "                           S               T*S\n",
            "S_trans (1 bar)    0.0015019 eV/K        0.448 eV\n",
            "S_rot              0.0002940 eV/K        0.088 eV\n",
            "S_elec             0.0000000 eV/K        0.000 eV\n",
            "S_vib              0.0002601 eV/K        0.078 eV\n",
            "S (1 bar -> P)    -0.0000011 eV/K       -0.000 eV\n",
            "-------------------------------------------------\n",
            "S                  0.0020549 eV/K        0.613 eV\n",
            "=================================================\n",
            "\n",
            "Free energy components at T = 298.15 K and P = 101325.0 Pa:\n",
            "=======================\n",
            "    H      -2078.875 eV\n",
            " -T*S         -0.613 eV\n",
            "-----------------------\n",
            "    G      -2079.487 eV\n",
            "=======================\n"
          ]
        }
      ]
    },
    {
      "cell_type": "markdown",
      "source": [
        "__Confirm that the average translation energy (described here as translational heat capacity Cv) is described by Eq. 9 (Appendix):__\n",
        "\n",
        "$<ɛ_T> = -\\frac{1}{q_T}(\\frac{∂q_T}{∂β})_{N,V} \\approx \\frac{3}{2}k_BT$"
      ],
      "metadata": {
        "id": "JTSESP5ydFz0"
      }
    },
    {
      "cell_type": "code",
      "source": [
        "#answer goes here"
      ],
      "metadata": {
        "id": "Y73-eWnad9uh"
      },
      "execution_count": null,
      "outputs": []
    },
    {
      "cell_type": "markdown",
      "source": [
        "__Compute the same thermodynamic quanties (gibbs energy, enthalpy and entropy) for OH$^-$ and H$^+$.__"
      ],
      "metadata": {
        "id": "-nIlpARuegcV"
      }
    },
    {
      "cell_type": "code",
      "source": [
        "#answer for OH-"
      ],
      "metadata": {
        "id": "C9JxUCgHlVk8"
      },
      "execution_count": null,
      "outputs": []
    },
    {
      "cell_type": "code",
      "source": [
        "#answer for H+ (Hint!: consider the 'geometry' parameter and set vib.energies to an empty list [])"
      ],
      "metadata": {
        "id": "Y33niaF5lV6A"
      },
      "execution_count": null,
      "outputs": []
    },
    {
      "cell_type": "markdown",
      "source": [
        "At this point you should have three dictionaries _h\\_results_, _oh\\_results_ and _h2o\\_results_ that includes the electronic energy, enthalpy and entropy of these species.\n",
        "\n",
        "__Calculate the change in electronic energy $\\Delta$E, the change in enthalpy $\\Delta$H, the entropy contribution T$\\Delta$S, and the Gibbs free energy change $\\Delta$G for the reaction (Eqns 23-27):__\n",
        "\n",
        "H$_2$O $⟶$ OH$^{-}$ + H$^+$ \n"
      ],
      "metadata": {
        "id": "ueRvKoMIlv4_"
      }
    },
    {
      "cell_type": "code",
      "source": [
        "#answer for deltaE"
      ],
      "metadata": {
        "id": "NCKn1xWKrK5G"
      },
      "execution_count": null,
      "outputs": []
    },
    {
      "cell_type": "code",
      "source": [
        "#answer for deltaH"
      ],
      "metadata": {
        "id": "cpwmslY7rN5v"
      },
      "execution_count": null,
      "outputs": []
    },
    {
      "cell_type": "code",
      "source": [
        "#answer for deltaS"
      ],
      "metadata": {
        "id": "olksduGqrXrD"
      },
      "execution_count": null,
      "outputs": []
    },
    {
      "cell_type": "code",
      "source": [
        "#answer for deltaG"
      ],
      "metadata": {
        "id": "0nH17Zl8rbBW"
      },
      "execution_count": null,
      "outputs": []
    },
    {
      "cell_type": "markdown",
      "source": [
        "__Calculate K$_a$ and pK$_a$ at 298.15 K for the acid-ionisation reaction H2O ⇌ H$^+$ + OH$^-$ (Eqns 1 and 2 of this preamble). Discuss how this compares with the experimentally determined value and why it might differ.__"
      ],
      "metadata": {
        "id": "-oWVqA24roI8"
      }
    },
    {
      "cell_type": "code",
      "source": [
        "#answer for Ka"
      ],
      "metadata": {
        "id": "hcWFWNMqr_hF"
      },
      "execution_count": null,
      "outputs": []
    },
    {
      "cell_type": "code",
      "source": [
        "#answer for pKa"
      ],
      "metadata": {
        "id": "8heeYFTKsCDD"
      },
      "execution_count": null,
      "outputs": []
    },
    {
      "cell_type": "markdown",
      "source": [
        "_Your discussion_"
      ],
      "metadata": {
        "id": "CsNQo7CUsFus"
      }
    }
  ]
}