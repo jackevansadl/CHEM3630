{
  "nbformat": 4,
  "nbformat_minor": 0,
  "metadata": {
    "colab": {
      "provenance": [],
      "authorship_tag": "ABX9TyOMhV9hQFhf7VxZILBtAHu1",
      "include_colab_link": true
    },
    "kernelspec": {
      "name": "python3",
      "display_name": "Python 3"
    },
    "language_info": {
      "name": "python"
    },
    "widgets": {
      "application/vnd.jupyter.widget-state+json": {
        "ffdea256f93b4c75aedcf272d2b64ba0": {
          "model_module": "nglview-js-widgets",
          "model_name": "ColormakerRegistryModel",
          "model_module_version": "3.0.1",
          "state": {
            "_dom_classes": [],
            "_model_module": "nglview-js-widgets",
            "_model_module_version": "3.0.1",
            "_model_name": "ColormakerRegistryModel",
            "_msg_ar": [],
            "_msg_q": [],
            "_ready": true,
            "_view_count": null,
            "_view_module": "nglview-js-widgets",
            "_view_module_version": "3.0.1",
            "_view_name": "ColormakerRegistryView",
            "layout": "IPY_MODEL_259d2fb22f9145058568335d97152b7e"
          }
        },
        "259d2fb22f9145058568335d97152b7e": {
          "model_module": "@jupyter-widgets/base",
          "model_name": "LayoutModel",
          "model_module_version": "1.2.0",
          "state": {
            "_model_module": "@jupyter-widgets/base",
            "_model_module_version": "1.2.0",
            "_model_name": "LayoutModel",
            "_view_count": null,
            "_view_module": "@jupyter-widgets/base",
            "_view_module_version": "1.2.0",
            "_view_name": "LayoutView",
            "align_content": null,
            "align_items": null,
            "align_self": null,
            "border": null,
            "bottom": null,
            "display": null,
            "flex": null,
            "flex_flow": null,
            "grid_area": null,
            "grid_auto_columns": null,
            "grid_auto_flow": null,
            "grid_auto_rows": null,
            "grid_column": null,
            "grid_gap": null,
            "grid_row": null,
            "grid_template_areas": null,
            "grid_template_columns": null,
            "grid_template_rows": null,
            "height": null,
            "justify_content": null,
            "justify_items": null,
            "left": null,
            "margin": null,
            "max_height": null,
            "max_width": null,
            "min_height": null,
            "min_width": null,
            "object_fit": null,
            "object_position": null,
            "order": null,
            "overflow": null,
            "overflow_x": null,
            "overflow_y": null,
            "padding": null,
            "right": null,
            "top": null,
            "visibility": null,
            "width": null
          }
        },
        "8a616200d9e24d05ad831508fe7dde4c": {
          "model_module": "@jupyter-widgets/base",
          "model_name": "LayoutModel",
          "model_module_version": "1.2.0",
          "state": {
            "_model_module": "@jupyter-widgets/base",
            "_model_module_version": "1.2.0",
            "_model_name": "LayoutModel",
            "_view_count": null,
            "_view_module": "@jupyter-widgets/base",
            "_view_module_version": "1.2.0",
            "_view_name": "LayoutView",
            "align_content": null,
            "align_items": null,
            "align_self": null,
            "border": null,
            "bottom": null,
            "display": null,
            "flex": null,
            "flex_flow": null,
            "grid_area": null,
            "grid_auto_columns": null,
            "grid_auto_flow": null,
            "grid_auto_rows": null,
            "grid_column": null,
            "grid_gap": null,
            "grid_row": null,
            "grid_template_areas": null,
            "grid_template_columns": null,
            "grid_template_rows": null,
            "height": null,
            "justify_content": null,
            "justify_items": null,
            "left": null,
            "margin": null,
            "max_height": null,
            "max_width": null,
            "min_height": null,
            "min_width": null,
            "object_fit": null,
            "object_position": null,
            "order": null,
            "overflow": null,
            "overflow_x": null,
            "overflow_y": null,
            "padding": null,
            "right": null,
            "top": null,
            "visibility": null,
            "width": null
          }
        },
        "a7b25f2c299349a48538e32331046188": {
          "model_module": "@jupyter-widgets/base",
          "model_name": "LayoutModel",
          "model_module_version": "1.2.0",
          "state": {
            "_model_module": "@jupyter-widgets/base",
            "_model_module_version": "1.2.0",
            "_model_name": "LayoutModel",
            "_view_count": null,
            "_view_module": "@jupyter-widgets/base",
            "_view_module_version": "1.2.0",
            "_view_name": "LayoutView",
            "align_content": null,
            "align_items": null,
            "align_self": null,
            "border": null,
            "bottom": null,
            "display": null,
            "flex": null,
            "flex_flow": null,
            "grid_area": null,
            "grid_auto_columns": null,
            "grid_auto_flow": null,
            "grid_auto_rows": null,
            "grid_column": null,
            "grid_gap": null,
            "grid_row": null,
            "grid_template_areas": null,
            "grid_template_columns": null,
            "grid_template_rows": null,
            "height": null,
            "justify_content": null,
            "justify_items": null,
            "left": null,
            "margin": null,
            "max_height": null,
            "max_width": null,
            "min_height": null,
            "min_width": null,
            "object_fit": null,
            "object_position": null,
            "order": null,
            "overflow": null,
            "overflow_x": null,
            "overflow_y": null,
            "padding": null,
            "right": null,
            "top": null,
            "visibility": null,
            "width": null
          }
        },
        "4718084bfda548e38f19dea1f4fa5516": {
          "model_module": "@jupyter-widgets/controls",
          "model_name": "DescriptionStyleModel",
          "model_module_version": "1.5.0",
          "state": {
            "_model_module": "@jupyter-widgets/controls",
            "_model_module_version": "1.5.0",
            "_model_name": "DescriptionStyleModel",
            "_view_count": null,
            "_view_module": "@jupyter-widgets/base",
            "_view_module_version": "1.2.0",
            "_view_name": "StyleView",
            "description_width": ""
          }
        },
        "f597d710ae5941038553c2d53fafb94d": {
          "model_module": "@jupyter-widgets/base",
          "model_name": "LayoutModel",
          "model_module_version": "1.2.0",
          "state": {
            "_model_module": "@jupyter-widgets/base",
            "_model_module_version": "1.2.0",
            "_model_name": "LayoutModel",
            "_view_count": null,
            "_view_module": "@jupyter-widgets/base",
            "_view_module_version": "1.2.0",
            "_view_name": "LayoutView",
            "align_content": null,
            "align_items": null,
            "align_self": null,
            "border": null,
            "bottom": null,
            "display": null,
            "flex": null,
            "flex_flow": null,
            "grid_area": null,
            "grid_auto_columns": null,
            "grid_auto_flow": null,
            "grid_auto_rows": null,
            "grid_column": null,
            "grid_gap": null,
            "grid_row": null,
            "grid_template_areas": null,
            "grid_template_columns": null,
            "grid_template_rows": null,
            "height": null,
            "justify_content": null,
            "justify_items": null,
            "left": null,
            "margin": null,
            "max_height": null,
            "max_width": null,
            "min_height": null,
            "min_width": null,
            "object_fit": null,
            "object_position": null,
            "order": null,
            "overflow": null,
            "overflow_x": null,
            "overflow_y": null,
            "padding": null,
            "right": null,
            "top": null,
            "visibility": null,
            "width": null
          }
        },
        "b60519290f7a4bfbaa5e25eac6af7f6d": {
          "model_module": "@jupyter-widgets/controls",
          "model_name": "SliderStyleModel",
          "model_module_version": "1.5.0",
          "state": {
            "_model_module": "@jupyter-widgets/controls",
            "_model_module_version": "1.5.0",
            "_model_name": "SliderStyleModel",
            "_view_count": null,
            "_view_module": "@jupyter-widgets/base",
            "_view_module_version": "1.2.0",
            "_view_name": "StyleView",
            "description_width": "",
            "handle_color": null
          }
        },
        "0fe1ad7201724685b379441e52a650e1": {
          "model_module": "@jupyter-widgets/controls",
          "model_name": "PlayModel",
          "model_module_version": "1.5.0",
          "state": {
            "_dom_classes": [],
            "_model_module": "@jupyter-widgets/controls",
            "_model_module_version": "1.5.0",
            "_model_name": "PlayModel",
            "_playing": false,
            "_repeat": false,
            "_view_count": null,
            "_view_module": "@jupyter-widgets/controls",
            "_view_module_version": "1.5.0",
            "_view_name": "PlayView",
            "description": "",
            "description_tooltip": null,
            "disabled": false,
            "interval": 100,
            "layout": "IPY_MODEL_a7b25f2c299349a48538e32331046188",
            "max": 29,
            "min": 0,
            "show_repeat": true,
            "step": 1,
            "style": "IPY_MODEL_4718084bfda548e38f19dea1f4fa5516",
            "value": 0,
            "playing": false
          }
        },
        "44d6f7732b554c03adc43841b45bdbde": {
          "model_module": "@jupyter-widgets/controls",
          "model_name": "IntSliderModel",
          "model_module_version": "1.5.0",
          "state": {
            "_dom_classes": [],
            "_model_module": "@jupyter-widgets/controls",
            "_model_module_version": "1.5.0",
            "_model_name": "IntSliderModel",
            "_view_count": null,
            "_view_module": "@jupyter-widgets/controls",
            "_view_module_version": "1.5.0",
            "_view_name": "IntSliderView",
            "continuous_update": true,
            "description": "",
            "description_tooltip": null,
            "disabled": false,
            "layout": "IPY_MODEL_f597d710ae5941038553c2d53fafb94d",
            "max": 29,
            "min": 0,
            "orientation": "horizontal",
            "readout": true,
            "readout_format": "d",
            "step": 1,
            "style": "IPY_MODEL_b60519290f7a4bfbaa5e25eac6af7f6d",
            "value": 0
          }
        },
        "67f815c676c64ff2bb64207197f74066": {
          "model_module": "@jupyter-widgets/base",
          "model_name": "LayoutModel",
          "model_module_version": "1.2.0",
          "state": {
            "_model_module": "@jupyter-widgets/base",
            "_model_module_version": "1.2.0",
            "_model_name": "LayoutModel",
            "_view_count": null,
            "_view_module": "@jupyter-widgets/base",
            "_view_module_version": "1.2.0",
            "_view_name": "LayoutView",
            "align_content": null,
            "align_items": null,
            "align_self": null,
            "border": null,
            "bottom": null,
            "display": null,
            "flex": null,
            "flex_flow": null,
            "grid_area": null,
            "grid_auto_columns": null,
            "grid_auto_flow": null,
            "grid_auto_rows": null,
            "grid_column": null,
            "grid_gap": null,
            "grid_row": null,
            "grid_template_areas": null,
            "grid_template_columns": null,
            "grid_template_rows": null,
            "height": null,
            "justify_content": null,
            "justify_items": null,
            "left": null,
            "margin": null,
            "max_height": null,
            "max_width": null,
            "min_height": null,
            "min_width": null,
            "object_fit": null,
            "object_position": null,
            "order": null,
            "overflow": null,
            "overflow_x": null,
            "overflow_y": null,
            "padding": null,
            "right": null,
            "top": null,
            "visibility": null,
            "width": null
          }
        },
        "8798dc2824914c37b653fe1bbedd77f4": {
          "model_module": "nglview-js-widgets",
          "model_name": "NGLModel",
          "model_module_version": "3.0.1",
          "state": {
            "_camera_orientation": [
              -6.4606204985958575,
              0.6377960696603234,
              -7.489371907855854,
              0,
              0.09766711706528892,
              9.882006263711208,
              0.7573017666346211,
              0,
              7.515845696586553,
              0.4198344971886038,
              -6.447704637124994,
              0,
              0,
              0,
              0.18050000444054604,
              1
            ],
            "_camera_str": "orthographic",
            "_dom_classes": [],
            "_gui_theme": null,
            "_ibtn_fullscreen": "IPY_MODEL_12f2330e757a43f6b525ca1450a44364",
            "_igui": null,
            "_iplayer": "IPY_MODEL_79f040a46c8b4cec833bd1df8f10b2ca",
            "_model_module": "nglview-js-widgets",
            "_model_module_version": "3.0.1",
            "_model_name": "NGLModel",
            "_ngl_color_dict": {},
            "_ngl_coordinate_resource": {},
            "_ngl_full_stage_parameters": {
              "impostor": true,
              "quality": "medium",
              "workerDefault": true,
              "sampleLevel": 0,
              "backgroundColor": "white",
              "rotateSpeed": 2,
              "zoomSpeed": 1.2,
              "panSpeed": 1,
              "clipNear": 0,
              "clipFar": 100,
              "clipDist": 0,
              "fogNear": 50,
              "fogFar": 100,
              "cameraFov": 40,
              "cameraEyeSep": 0.3,
              "cameraType": "orthographic",
              "lightColor": 14540253,
              "lightIntensity": 1,
              "ambientColor": 14540253,
              "ambientIntensity": 0.2,
              "hoverTimeout": 0,
              "tooltip": true,
              "mousePreset": "default"
            },
            "_ngl_msg_archive": [
              {
                "target": "Stage",
                "type": "call_method",
                "methodName": "loadFile",
                "reconstruc_color_scheme": false,
                "args": [
                  {
                    "type": "blob",
                    "data": "MODEL     1\nATOM      1    O MOL     1      -0.000   0.000   0.113  1.00  0.00           O  \nATOM      2    H MOL     1       0.000   0.771  -0.474  1.00  0.00           H  \nATOM      3    H MOL     1      -0.000  -0.771  -0.474  1.00  0.00           H  \nENDMDL\n",
                    "binary": false
                  }
                ],
                "kwargs": {
                  "name": "nglview.adaptor.ASETrajectory",
                  "defaultRepresentation": false,
                  "ext": "pdb"
                }
              },
              {
                "target": "Widget",
                "type": "call_method",
                "methodName": "setSize",
                "reconstruc_color_scheme": false,
                "args": [
                  "500px",
                  "500px"
                ],
                "kwargs": {}
              },
              {
                "component_index": 0,
                "target": "compList",
                "type": "call_method",
                "methodName": "addRepresentation",
                "reconstruc_color_scheme": false,
                "args": [
                  "unitcell"
                ],
                "kwargs": {
                  "sele": "all"
                }
              },
              {
                "component_index": 0,
                "target": "compList",
                "type": "call_method",
                "methodName": "addRepresentation",
                "reconstruc_color_scheme": false,
                "args": [
                  "spacefill"
                ],
                "kwargs": {
                  "sele": "all"
                }
              },
              {
                "target": "Stage",
                "type": "call_method",
                "methodName": "setParameters",
                "reconstruc_color_scheme": false,
                "args": [],
                "kwargs": {
                  "cameraType": "orthographic"
                }
              },
              {
                "target": "Widget",
                "type": "call_method",
                "methodName": "setParameters",
                "reconstruc_color_scheme": false,
                "args": [
                  {
                    "clipDist": 0
                  }
                ],
                "kwargs": {}
              },
              {
                "target": "Widget",
                "type": "call_method",
                "methodName": "updateRepresentationsByName",
                "reconstruc_color_scheme": false,
                "args": [
                  "spacefill",
                  0
                ],
                "kwargs": {
                  "radiusType": "covalent",
                  "radiusScale": 0.5,
                  "colorScheme": "element",
                  "colorScale": "rainbow"
                }
              },
              {
                "target": "Widget",
                "type": "call_method",
                "methodName": "updateRepresentationsByName",
                "reconstruc_color_scheme": false,
                "args": [
                  "spacefill",
                  0
                ],
                "kwargs": {
                  "radiusType": "covalent",
                  "radiusScale": 0.5,
                  "colorScheme": "element",
                  "colorScale": "rainbow"
                }
              },
              {
                "target": "Widget",
                "type": "call_method",
                "methodName": "updateRepresentationsByName",
                "reconstruc_color_scheme": false,
                "args": [
                  "spacefill",
                  0
                ],
                "kwargs": {
                  "radiusType": "covalent",
                  "radiusScale": 0.49999999999999994,
                  "colorScheme": "element",
                  "colorScale": "rainbow"
                }
              },
              {
                "target": "Widget",
                "type": "call_method",
                "methodName": "updateRepresentationsByName",
                "reconstruc_color_scheme": false,
                "args": [
                  "spacefill",
                  0
                ],
                "kwargs": {
                  "radiusType": "covalent",
                  "radiusScale": 0.49999999999999994,
                  "colorScheme": "element",
                  "colorScale": "rainbow"
                }
              }
            ],
            "_ngl_original_stage_parameters": {
              "impostor": true,
              "quality": "medium",
              "workerDefault": true,
              "sampleLevel": 0,
              "backgroundColor": "white",
              "rotateSpeed": 2,
              "zoomSpeed": 1.2,
              "panSpeed": 1,
              "clipNear": 0,
              "clipFar": 100,
              "clipDist": 10,
              "fogNear": 50,
              "fogFar": 100,
              "cameraFov": 40,
              "cameraEyeSep": 0.3,
              "cameraType": "perspective",
              "lightColor": 14540253,
              "lightIntensity": 1,
              "ambientColor": 14540253,
              "ambientIntensity": 0.2,
              "hoverTimeout": 0,
              "tooltip": true,
              "mousePreset": "default"
            },
            "_ngl_repr_dict": {
              "0": {
                "0": {
                  "type": "unitcell",
                  "params": {
                    "lazy": false,
                    "visible": true,
                    "quality": "medium",
                    "radiusSize": 0.5,
                    "sphereDetail": 1,
                    "radialSegments": 10,
                    "disableImpostor": false,
                    "radiusType": "vdw",
                    "radiusData": {},
                    "radiusScale": 1,
                    "defaultAssembly": "",
                    "clipNear": 0,
                    "clipRadius": 0,
                    "clipCenter": {
                      "x": 0,
                      "y": 0,
                      "z": 0
                    },
                    "flatShaded": false,
                    "opacity": 1,
                    "depthWrite": true,
                    "side": "double",
                    "wireframe": false,
                    "colorScheme": "element",
                    "colorScale": "",
                    "colorReverse": false,
                    "colorValue": "orange",
                    "colorMode": "hcl",
                    "roughness": 0.4,
                    "metalness": 0,
                    "diffuse": 16777215,
                    "diffuseInterior": false,
                    "useInteriorColor": true,
                    "interiorColor": 2236962,
                    "interiorDarkening": 0,
                    "matrix": {
                      "elements": [
                        1,
                        0,
                        0,
                        0,
                        0,
                        1,
                        0,
                        0,
                        0,
                        0,
                        1,
                        0,
                        0,
                        0,
                        0,
                        1
                      ]
                    },
                    "disablePicking": false,
                    "sele": "all"
                  }
                },
                "1": {
                  "type": "unitcell",
                  "params": {
                    "lazy": false,
                    "visible": true,
                    "quality": "medium",
                    "radiusSize": 0.5,
                    "sphereDetail": 1,
                    "radialSegments": 10,
                    "disableImpostor": false,
                    "radiusType": "vdw",
                    "radiusData": {},
                    "radiusScale": 1,
                    "defaultAssembly": "",
                    "clipNear": 0,
                    "clipRadius": 0,
                    "clipCenter": {
                      "x": 0,
                      "y": 0,
                      "z": 0
                    },
                    "flatShaded": false,
                    "opacity": 1,
                    "depthWrite": true,
                    "side": "double",
                    "wireframe": false,
                    "colorScheme": "element",
                    "colorScale": "",
                    "colorReverse": false,
                    "colorValue": "orange",
                    "colorMode": "hcl",
                    "roughness": 0.4,
                    "metalness": 0,
                    "diffuse": 16777215,
                    "diffuseInterior": false,
                    "useInteriorColor": true,
                    "interiorColor": 2236962,
                    "interiorDarkening": 0,
                    "matrix": {
                      "elements": [
                        1,
                        0,
                        0,
                        0,
                        0,
                        1,
                        0,
                        0,
                        0,
                        0,
                        1,
                        0,
                        0,
                        0,
                        0,
                        1
                      ]
                    },
                    "disablePicking": false,
                    "sele": "all"
                  }
                },
                "2": {
                  "type": "spacefill",
                  "params": {
                    "lazy": false,
                    "visible": true,
                    "quality": "medium",
                    "sphereDetail": 1,
                    "disableImpostor": false,
                    "radiusType": "covalent",
                    "radiusData": {},
                    "radiusSize": 1,
                    "radiusScale": 0.5,
                    "assembly": "default",
                    "defaultAssembly": "",
                    "clipNear": 0,
                    "clipRadius": 0,
                    "clipCenter": {
                      "x": 0,
                      "y": 0,
                      "z": 0
                    },
                    "flatShaded": false,
                    "opacity": 1,
                    "depthWrite": true,
                    "side": "double",
                    "wireframe": false,
                    "colorScheme": "element",
                    "colorScale": "rainbow",
                    "colorReverse": false,
                    "colorValue": 9474192,
                    "colorMode": "hcl",
                    "roughness": 0.4,
                    "metalness": 0,
                    "diffuse": 16777215,
                    "diffuseInterior": false,
                    "useInteriorColor": true,
                    "interiorColor": 2236962,
                    "interiorDarkening": 0,
                    "matrix": {
                      "elements": [
                        1,
                        0,
                        0,
                        0,
                        0,
                        1,
                        0,
                        0,
                        0,
                        0,
                        1,
                        0,
                        0,
                        0,
                        0,
                        1
                      ]
                    },
                    "disablePicking": false,
                    "sele": "all"
                  }
                },
                "3": {
                  "type": "spacefill",
                  "params": {
                    "lazy": false,
                    "visible": true,
                    "quality": "medium",
                    "sphereDetail": 1,
                    "disableImpostor": false,
                    "radiusType": "covalent",
                    "radiusData": {},
                    "radiusSize": 1,
                    "radiusScale": 0.5,
                    "assembly": "default",
                    "defaultAssembly": "",
                    "clipNear": 0,
                    "clipRadius": 0,
                    "clipCenter": {
                      "x": 0,
                      "y": 0,
                      "z": 0
                    },
                    "flatShaded": false,
                    "opacity": 1,
                    "depthWrite": true,
                    "side": "double",
                    "wireframe": false,
                    "colorScheme": "element",
                    "colorScale": "rainbow",
                    "colorReverse": false,
                    "colorValue": 9474192,
                    "colorMode": "hcl",
                    "roughness": 0.4,
                    "metalness": 0,
                    "diffuse": 16777215,
                    "diffuseInterior": false,
                    "useInteriorColor": true,
                    "interiorColor": 2236962,
                    "interiorDarkening": 0,
                    "matrix": {
                      "elements": [
                        1,
                        0,
                        0,
                        0,
                        0,
                        1,
                        0,
                        0,
                        0,
                        0,
                        1,
                        0,
                        0,
                        0,
                        0,
                        1
                      ]
                    },
                    "disablePicking": false,
                    "sele": "all"
                  }
                }
              },
              "1": {}
            },
            "_ngl_serialize": false,
            "_ngl_version": "2.0.0-dev.36",
            "_ngl_view_id": [
              "51CC992D-ECBF-495E-B874-BA13275AEF46"
            ],
            "_player_dict": {},
            "_scene_position": {},
            "_scene_rotation": {},
            "_synced_model_ids": [],
            "_synced_repr_model_ids": [],
            "_view_count": null,
            "_view_height": "",
            "_view_module": "nglview-js-widgets",
            "_view_module_version": "3.0.1",
            "_view_name": "NGLView",
            "_view_width": "",
            "background": "white",
            "frame": 0,
            "gui_style": null,
            "layout": "IPY_MODEL_8a616200d9e24d05ad831508fe7dde4c",
            "max_frame": 29,
            "n_components": 2,
            "picked": {}
          }
        },
        "ab72e73a0df34a4aabe5a961d6b7d686": {
          "model_module": "@jupyter-widgets/base",
          "model_name": "LayoutModel",
          "model_module_version": "1.2.0",
          "state": {
            "_model_module": "@jupyter-widgets/base",
            "_model_module_version": "1.2.0",
            "_model_name": "LayoutModel",
            "_view_count": null,
            "_view_module": "@jupyter-widgets/base",
            "_view_module_version": "1.2.0",
            "_view_name": "LayoutView",
            "align_content": null,
            "align_items": null,
            "align_self": null,
            "border": null,
            "bottom": null,
            "display": null,
            "flex": null,
            "flex_flow": null,
            "grid_area": null,
            "grid_auto_columns": null,
            "grid_auto_flow": null,
            "grid_auto_rows": null,
            "grid_column": null,
            "grid_gap": null,
            "grid_row": null,
            "grid_template_areas": null,
            "grid_template_columns": null,
            "grid_template_rows": null,
            "height": null,
            "justify_content": null,
            "justify_items": null,
            "left": null,
            "margin": null,
            "max_height": null,
            "max_width": null,
            "min_height": null,
            "min_width": null,
            "object_fit": null,
            "object_position": null,
            "order": null,
            "overflow": null,
            "overflow_x": null,
            "overflow_y": null,
            "padding": null,
            "right": null,
            "top": null,
            "visibility": null,
            "width": "34px"
          }
        },
        "fc42255ab5b145d7851a5580b27bc50b": {
          "model_module": "@jupyter-widgets/controls",
          "model_name": "ButtonStyleModel",
          "model_module_version": "1.5.0",
          "state": {
            "_model_module": "@jupyter-widgets/controls",
            "_model_module_version": "1.5.0",
            "_model_name": "ButtonStyleModel",
            "_view_count": null,
            "_view_module": "@jupyter-widgets/base",
            "_view_module_version": "1.2.0",
            "_view_name": "StyleView",
            "button_color": null,
            "font_weight": ""
          }
        },
        "750366b9ff13469897ebcd0dfc3ac945": {
          "model_module": "@jupyter-widgets/base",
          "model_name": "LayoutModel",
          "model_module_version": "1.2.0",
          "state": {
            "_model_module": "@jupyter-widgets/base",
            "_model_module_version": "1.2.0",
            "_model_name": "LayoutModel",
            "_view_count": null,
            "_view_module": "@jupyter-widgets/base",
            "_view_module_version": "1.2.0",
            "_view_name": "LayoutView",
            "align_content": null,
            "align_items": null,
            "align_self": null,
            "border": null,
            "bottom": null,
            "display": null,
            "flex": null,
            "flex_flow": null,
            "grid_area": null,
            "grid_auto_columns": null,
            "grid_auto_flow": null,
            "grid_auto_rows": null,
            "grid_column": null,
            "grid_gap": null,
            "grid_row": null,
            "grid_template_areas": null,
            "grid_template_columns": null,
            "grid_template_rows": null,
            "height": null,
            "justify_content": null,
            "justify_items": null,
            "left": null,
            "margin": null,
            "max_height": null,
            "max_width": null,
            "min_height": null,
            "min_width": null,
            "object_fit": null,
            "object_position": null,
            "order": null,
            "overflow": null,
            "overflow_x": null,
            "overflow_y": null,
            "padding": null,
            "right": null,
            "top": null,
            "visibility": null,
            "width": null
          }
        },
        "5af9e505b382414790244c00c1c57946": {
          "model_module": "@jupyter-widgets/controls",
          "model_name": "SliderStyleModel",
          "model_module_version": "1.5.0",
          "state": {
            "_model_module": "@jupyter-widgets/controls",
            "_model_module_version": "1.5.0",
            "_model_name": "SliderStyleModel",
            "_view_count": null,
            "_view_module": "@jupyter-widgets/base",
            "_view_module_version": "1.2.0",
            "_view_name": "StyleView",
            "description_width": "",
            "handle_color": null
          }
        },
        "2e8e594ddf844fa79239c34001e9e8f1": {
          "model_module": "@jupyter-widgets/base",
          "model_name": "LayoutModel",
          "model_module_version": "1.2.0",
          "state": {
            "_model_module": "@jupyter-widgets/base",
            "_model_module_version": "1.2.0",
            "_model_name": "LayoutModel",
            "_view_count": null,
            "_view_module": "@jupyter-widgets/base",
            "_view_module_version": "1.2.0",
            "_view_name": "LayoutView",
            "align_content": null,
            "align_items": null,
            "align_self": null,
            "border": null,
            "bottom": null,
            "display": null,
            "flex": null,
            "flex_flow": null,
            "grid_area": null,
            "grid_auto_columns": null,
            "grid_auto_flow": null,
            "grid_auto_rows": null,
            "grid_column": null,
            "grid_gap": null,
            "grid_row": null,
            "grid_template_areas": null,
            "grid_template_columns": null,
            "grid_template_rows": null,
            "height": null,
            "justify_content": null,
            "justify_items": null,
            "left": null,
            "margin": null,
            "max_height": null,
            "max_width": null,
            "min_height": null,
            "min_width": null,
            "object_fit": null,
            "object_position": null,
            "order": null,
            "overflow": null,
            "overflow_x": null,
            "overflow_y": null,
            "padding": null,
            "right": null,
            "top": null,
            "visibility": null,
            "width": null
          }
        },
        "02651dd3066a4a20b72a67ea4f5c972c": {
          "model_module": "@jupyter-widgets/controls",
          "model_name": "DescriptionStyleModel",
          "model_module_version": "1.5.0",
          "state": {
            "_model_module": "@jupyter-widgets/controls",
            "_model_module_version": "1.5.0",
            "_model_name": "DescriptionStyleModel",
            "_view_count": null,
            "_view_module": "@jupyter-widgets/base",
            "_view_module_version": "1.2.0",
            "_view_name": "StyleView",
            "description_width": ""
          }
        },
        "19d1038215264f3790ca61012d6799e5": {
          "model_module": "@jupyter-widgets/base",
          "model_name": "LayoutModel",
          "model_module_version": "1.2.0",
          "state": {
            "_model_module": "@jupyter-widgets/base",
            "_model_module_version": "1.2.0",
            "_model_name": "LayoutModel",
            "_view_count": null,
            "_view_module": "@jupyter-widgets/base",
            "_view_module_version": "1.2.0",
            "_view_name": "LayoutView",
            "align_content": null,
            "align_items": null,
            "align_self": null,
            "border": null,
            "bottom": null,
            "display": null,
            "flex": null,
            "flex_flow": null,
            "grid_area": null,
            "grid_auto_columns": null,
            "grid_auto_flow": null,
            "grid_auto_rows": null,
            "grid_column": null,
            "grid_gap": null,
            "grid_row": null,
            "grid_template_areas": null,
            "grid_template_columns": null,
            "grid_template_rows": null,
            "height": null,
            "justify_content": null,
            "justify_items": null,
            "left": null,
            "margin": null,
            "max_height": null,
            "max_width": null,
            "min_height": null,
            "min_width": null,
            "object_fit": null,
            "object_position": null,
            "order": null,
            "overflow": null,
            "overflow_x": null,
            "overflow_y": null,
            "padding": null,
            "right": null,
            "top": null,
            "visibility": null,
            "width": null
          }
        },
        "79b019a0fb8a418b80876b752c3cfae8": {
          "model_module": "@jupyter-widgets/controls",
          "model_name": "DescriptionStyleModel",
          "model_module_version": "1.5.0",
          "state": {
            "_model_module": "@jupyter-widgets/controls",
            "_model_module_version": "1.5.0",
            "_model_name": "DescriptionStyleModel",
            "_view_count": null,
            "_view_module": "@jupyter-widgets/base",
            "_view_module_version": "1.2.0",
            "_view_name": "StyleView",
            "description_width": ""
          }
        },
        "da7efa35570c49cca3a7e2ec17f6b122": {
          "model_module": "@jupyter-widgets/base",
          "model_name": "LayoutModel",
          "model_module_version": "1.2.0",
          "state": {
            "_model_module": "@jupyter-widgets/base",
            "_model_module_version": "1.2.0",
            "_model_name": "LayoutModel",
            "_view_count": null,
            "_view_module": "@jupyter-widgets/base",
            "_view_module_version": "1.2.0",
            "_view_name": "LayoutView",
            "align_content": null,
            "align_items": null,
            "align_self": null,
            "border": null,
            "bottom": null,
            "display": null,
            "flex": null,
            "flex_flow": null,
            "grid_area": null,
            "grid_auto_columns": null,
            "grid_auto_flow": null,
            "grid_auto_rows": null,
            "grid_column": null,
            "grid_gap": null,
            "grid_row": null,
            "grid_template_areas": null,
            "grid_template_columns": null,
            "grid_template_rows": null,
            "height": null,
            "justify_content": null,
            "justify_items": null,
            "left": null,
            "margin": null,
            "max_height": null,
            "max_width": null,
            "min_height": null,
            "min_width": null,
            "object_fit": null,
            "object_position": null,
            "order": null,
            "overflow": null,
            "overflow_x": null,
            "overflow_y": null,
            "padding": null,
            "right": null,
            "top": null,
            "visibility": null,
            "width": null
          }
        },
        "5a1d002549f14dbfb9d0b63fa7353879": {
          "model_module": "@jupyter-widgets/controls",
          "model_name": "SliderStyleModel",
          "model_module_version": "1.5.0",
          "state": {
            "_model_module": "@jupyter-widgets/controls",
            "_model_module_version": "1.5.0",
            "_model_name": "SliderStyleModel",
            "_view_count": null,
            "_view_module": "@jupyter-widgets/base",
            "_view_module_version": "1.2.0",
            "_view_name": "StyleView",
            "description_width": "",
            "handle_color": null
          }
        },
        "fd537fe5c24a4182a6c1e5220be11a60": {
          "model_module": "@jupyter-widgets/controls",
          "model_name": "DropdownModel",
          "model_module_version": "1.5.0",
          "state": {
            "_dom_classes": [],
            "_model_module": "@jupyter-widgets/controls",
            "_model_module_version": "1.5.0",
            "_model_name": "DropdownModel",
            "_options_labels": [
              "All",
              "O",
              "H"
            ],
            "_view_count": null,
            "_view_module": "@jupyter-widgets/controls",
            "_view_module_version": "1.5.0",
            "_view_name": "DropdownView",
            "description": "Show",
            "description_tooltip": null,
            "disabled": false,
            "index": 0,
            "layout": "IPY_MODEL_2e8e594ddf844fa79239c34001e9e8f1",
            "style": "IPY_MODEL_02651dd3066a4a20b72a67ea4f5c972c"
          }
        },
        "9158b664b1f64df8ad050e819eef0cea": {
          "model_module": "@jupyter-widgets/controls",
          "model_name": "DropdownModel",
          "model_module_version": "1.5.0",
          "state": {
            "_dom_classes": [],
            "_model_module": "@jupyter-widgets/controls",
            "_model_module_version": "1.5.0",
            "_model_name": "DropdownModel",
            "_options_labels": [
              " ",
              "picking",
              "random",
              "uniform",
              "atomindex",
              "residueindex",
              "chainindex",
              "modelindex",
              "sstruc",
              "element",
              "resname",
              "bfactor",
              "hydrophobicity",
              "value",
              "volume",
              "occupancy"
            ],
            "_view_count": null,
            "_view_module": "@jupyter-widgets/controls",
            "_view_module_version": "1.5.0",
            "_view_name": "DropdownView",
            "description": "Color scheme",
            "description_tooltip": null,
            "disabled": false,
            "index": 9,
            "layout": "IPY_MODEL_19d1038215264f3790ca61012d6799e5",
            "style": "IPY_MODEL_79b019a0fb8a418b80876b752c3cfae8"
          }
        },
        "672b85faef9b401db22bda2e645190d1": {
          "model_module": "@jupyter-widgets/controls",
          "model_name": "FloatSliderModel",
          "model_module_version": "1.5.0",
          "state": {
            "_dom_classes": [],
            "_model_module": "@jupyter-widgets/controls",
            "_model_module_version": "1.5.0",
            "_model_name": "FloatSliderModel",
            "_view_count": null,
            "_view_module": "@jupyter-widgets/controls",
            "_view_module_version": "1.5.0",
            "_view_name": "FloatSliderView",
            "continuous_update": true,
            "description": "Ball size",
            "description_tooltip": null,
            "disabled": false,
            "layout": "IPY_MODEL_da7efa35570c49cca3a7e2ec17f6b122",
            "max": 1.5,
            "min": 0,
            "orientation": "horizontal",
            "readout": true,
            "readout_format": ".2f",
            "step": 0.01,
            "style": "IPY_MODEL_5a1d002549f14dbfb9d0b63fa7353879",
            "value": 0.49999999999999994
          }
        },
        "1d7ea65a0be045cfa77c8080e5a9544f": {
          "model_module": "@jupyter-widgets/controls",
          "model_name": "IntSliderModel",
          "model_module_version": "1.5.0",
          "state": {
            "_dom_classes": [],
            "_model_module": "@jupyter-widgets/controls",
            "_model_module_version": "1.5.0",
            "_model_name": "IntSliderModel",
            "_view_count": null,
            "_view_module": "@jupyter-widgets/controls",
            "_view_module_version": "1.5.0",
            "_view_name": "IntSliderView",
            "continuous_update": true,
            "description": "",
            "description_tooltip": null,
            "disabled": false,
            "layout": "IPY_MODEL_750366b9ff13469897ebcd0dfc3ac945",
            "max": 29,
            "min": 0,
            "orientation": "horizontal",
            "readout": true,
            "readout_format": "d",
            "step": 1,
            "style": "IPY_MODEL_5af9e505b382414790244c00c1c57946",
            "value": 0
          }
        },
        "5fba58045bc449ca9f38577fa8b9350a": {
          "model_module": "@jupyter-widgets/base",
          "model_name": "LayoutModel",
          "model_module_version": "1.2.0",
          "state": {
            "_model_module": "@jupyter-widgets/base",
            "_model_module_version": "1.2.0",
            "_model_name": "LayoutModel",
            "_view_count": null,
            "_view_module": "@jupyter-widgets/base",
            "_view_module_version": "1.2.0",
            "_view_name": "LayoutView",
            "align_content": null,
            "align_items": null,
            "align_self": null,
            "border": null,
            "bottom": null,
            "display": null,
            "flex": null,
            "flex_flow": null,
            "grid_area": null,
            "grid_auto_columns": null,
            "grid_auto_flow": null,
            "grid_auto_rows": null,
            "grid_column": null,
            "grid_gap": null,
            "grid_row": null,
            "grid_template_areas": null,
            "grid_template_columns": null,
            "grid_template_rows": null,
            "height": null,
            "justify_content": null,
            "justify_items": null,
            "left": null,
            "margin": null,
            "max_height": null,
            "max_width": null,
            "min_height": null,
            "min_width": null,
            "object_fit": null,
            "object_position": null,
            "order": null,
            "overflow": null,
            "overflow_x": null,
            "overflow_y": null,
            "padding": null,
            "right": null,
            "top": null,
            "visibility": null,
            "width": null
          }
        },
        "44f4ea08d2554f62a529d7c5840cab8e": {
          "model_module": "@jupyter-widgets/controls",
          "model_name": "VBoxModel",
          "model_module_version": "1.5.0",
          "state": {
            "_dom_classes": [],
            "_model_module": "@jupyter-widgets/controls",
            "_model_module_version": "1.5.0",
            "_model_name": "VBoxModel",
            "_view_count": null,
            "_view_module": "@jupyter-widgets/controls",
            "_view_module_version": "1.5.0",
            "_view_name": "VBoxView",
            "box_style": "",
            "children": [
              "IPY_MODEL_fd537fe5c24a4182a6c1e5220be11a60",
              "IPY_MODEL_9158b664b1f64df8ad050e819eef0cea",
              "IPY_MODEL_672b85faef9b401db22bda2e645190d1",
              "IPY_MODEL_1d7ea65a0be045cfa77c8080e5a9544f"
            ],
            "layout": "IPY_MODEL_5fba58045bc449ca9f38577fa8b9350a"
          }
        },
        "5cf41da7ec544de9b71892b6060c2b5a": {
          "model_module": "@jupyter-widgets/base",
          "model_name": "LayoutModel",
          "model_module_version": "1.2.0",
          "state": {
            "_model_module": "@jupyter-widgets/base",
            "_model_module_version": "1.2.0",
            "_model_name": "LayoutModel",
            "_view_count": null,
            "_view_module": "@jupyter-widgets/base",
            "_view_module_version": "1.2.0",
            "_view_name": "LayoutView",
            "align_content": null,
            "align_items": null,
            "align_self": null,
            "border": null,
            "bottom": null,
            "display": null,
            "flex": null,
            "flex_flow": null,
            "grid_area": null,
            "grid_auto_columns": null,
            "grid_auto_flow": null,
            "grid_auto_rows": null,
            "grid_column": null,
            "grid_gap": null,
            "grid_row": null,
            "grid_template_areas": null,
            "grid_template_columns": null,
            "grid_template_rows": null,
            "height": null,
            "justify_content": null,
            "justify_items": null,
            "left": null,
            "margin": null,
            "max_height": null,
            "max_width": null,
            "min_height": null,
            "min_width": null,
            "object_fit": null,
            "object_position": null,
            "order": null,
            "overflow": null,
            "overflow_x": null,
            "overflow_y": null,
            "padding": null,
            "right": null,
            "top": null,
            "visibility": null,
            "width": null
          }
        },
        "f8a2bb121b9b462180f26f708364da62": {
          "model_module": "@jupyter-widgets/controls",
          "model_name": "HBoxModel",
          "model_module_version": "1.5.0",
          "state": {
            "_dom_classes": [],
            "_model_module": "@jupyter-widgets/controls",
            "_model_module_version": "1.5.0",
            "_model_name": "HBoxModel",
            "_view_count": null,
            "_view_module": "@jupyter-widgets/controls",
            "_view_module_version": "1.5.0",
            "_view_name": "HBoxView",
            "box_style": "",
            "children": [
              "IPY_MODEL_8798dc2824914c37b653fe1bbedd77f4",
              "IPY_MODEL_44f4ea08d2554f62a529d7c5840cab8e"
            ],
            "layout": "IPY_MODEL_5cf41da7ec544de9b71892b6060c2b5a"
          }
        },
        "12f2330e757a43f6b525ca1450a44364": {
          "model_module": "@jupyter-widgets/controls",
          "model_name": "ButtonModel",
          "model_module_version": "1.5.0",
          "state": {
            "_dom_classes": [],
            "_model_module": "@jupyter-widgets/controls",
            "_model_module_version": "1.5.0",
            "_model_name": "ButtonModel",
            "_view_count": null,
            "_view_module": "@jupyter-widgets/controls",
            "_view_module_version": "1.5.0",
            "_view_name": "ButtonView",
            "button_style": "",
            "description": "",
            "disabled": false,
            "icon": "compress",
            "layout": "IPY_MODEL_ab72e73a0df34a4aabe5a961d6b7d686",
            "style": "IPY_MODEL_fc42255ab5b145d7851a5580b27bc50b",
            "tooltip": ""
          }
        },
        "79f040a46c8b4cec833bd1df8f10b2ca": {
          "model_module": "@jupyter-widgets/controls",
          "model_name": "HBoxModel",
          "model_module_version": "1.5.0",
          "state": {
            "_dom_classes": [],
            "_model_module": "@jupyter-widgets/controls",
            "_model_module_version": "1.5.0",
            "_model_name": "HBoxModel",
            "_view_count": null,
            "_view_module": "@jupyter-widgets/controls",
            "_view_module_version": "1.5.0",
            "_view_name": "HBoxView",
            "box_style": "",
            "children": [
              "IPY_MODEL_0fe1ad7201724685b379441e52a650e1",
              "IPY_MODEL_44d6f7732b554c03adc43841b45bdbde"
            ],
            "layout": "IPY_MODEL_67f815c676c64ff2bb64207197f74066"
          }
        }
      }
    }
  },
  "cells": [
    {
      "cell_type": "markdown",
      "metadata": {
        "id": "view-in-github",
        "colab_type": "text"
      },
      "source": [
        "<a href=\"https://colab.research.google.com/github/jackevansadl/CHEM3630/blob/main/workshop3-thermodynamicsA.ipynb\" target=\"_parent\"><img src=\"https://colab.research.google.com/assets/colab-badge.svg\" alt=\"Open In Colab\"/></a>"
      ]
    },
    {
      "cell_type": "markdown",
      "source": [
        "# Workshop 3: Thermodynamics of Gas-Phase Acidity\n",
        "\n",
        "##Overview\n",
        "Quantum chemical calculations will be used to investigate the thermodynamics of gas-phase proton abstraction reactions to determine the relative gas-phase acidities of water and other chemical species.\n",
        "\n",
        "## Background\n",
        "Reactions of acids or bases play important roles in many areas, from biology to chemistry to geology. According to the Brønsted–Lowry definition, an acid is a proton donor and a base is a proton acceptor.<a name=\"cite_ref-1\"></a>[<sup>[1]</sup>](#cite_note-1) A key property of an acid is its strength, or propensity to donate a proton, which is characterised by the equilibrium constant 𝐾a of the acid ionisation reaction.\n",
        "\n",
        "HA ⇌ H$^{+}$ + A$^{-}$ &emsp; &emsp; $K_a = \\frac{[\\mathrm{H}^+][\\mathrm{A}^-]}{[\\mathrm{H}\\mathrm{A}]}$ (1)\n",
        "\n",
        "where HA is the acid and A$^-$ is its conjugate base. The higher the value of 𝐾a, the greater the propensity of the acid to give up a proton and thus the stronger the acid. The acid-ionisation equilibrium constant can be calculated from the standard Gibbs free energy change ∆𝐺° for the acid ionisation reaction using:\n",
        "\n",
        "$ΔG^\\circ = -RT\\ln K_a$ (2)\n",
        "\n",
        "The standard Gibbs free energy change ∆𝐺° of a chemical reaction is the Gibbs free energy change ∆𝐺 in the case in which each reactant and product is at 1 atm pressure (for a gas) or 1 M concentration (for a solution).\n",
        "\n",
        "Measuring the acid-ionisation equilibrium constant can be experimentally challenging, particularly for weak acids with small equilibrium constants. Fortunately, the free energy change, and thus the acid-ionisation equilibrium constant, can be accurately calculated in many cases using quantum chemistry. This practical will use a particular type of quantum chemistry called density functional theory, DFT (as implemented in Psi4<a name=\"cite_ref-2\"></a>[<sup>[2]</sup>](#cite_note-2)) and the atomic simulation environment<a name=\"cite_ref-3\"></a>[<sup>[3]</sup>](#cite_note-3) to calculate the thermodynamics of acid ionisation. DFT is a method that calculates the ground-state electron density and electronic energy for a specified nuclear geometry.<a name=\"cite_ref-4\"></a>[<sup>[4]</sup>](#cite_note-4) The calculations are for molecules in the gas phase (i.e. not solvated), which can serve as a good starting point for more sophisticated calculations of the thermodynamics of acid ionisation in solution. Furthermore, gas-phase acidity and basicity play a significant role in important chemical processes, e.g. determining the propensity to form molecular ions of particular mass/charge ratios in mass spectrometry.<a name=\"cite_ref-5\"></a>[<sup>[5]</sup>](#cite_note-5)\n",
        "\n",
        "By varying the nuclear geometry to minimise the electronic energy in a process called geometry optimisation, the equilibrium geometry of a molecule at absolute zero temperature (0 K) can be determined. To calculate the total energy, enthalpy, or Gibbs free energy at finite (non-zero) temperature, contributions from translational, rotational, and vibrational degrees of freedom and the effect of finite temperature must be included. By calculating the electronic energy for small displacements of the atoms from the equilibrium geometry, the oscillation frequencies of the vibrational degrees of freedom (normal modes) of the molecule can be estimated using the harmonic oscillator approximation in a process called vibrational frequency analysis, from which quantum vibrational energies can be calculated. Using the electronic energy, equilibrium geometry, and vibrational frequencies from these quantum-chemical calculations, along with the molecular weight, in equations derived from statistical mechanics, the thermodynamics at finite temperature can be calculated.\n",
        "\n",
        "## Goals and Objectives\n",
        "_Overall Goals_:\n",
        "1. Learn how quantum chemical calculations can be used to investigate the geometry, electronic structure, and\n",
        "thermochemistry of a simple molecular system.\n",
        "2. Understand the output of quantum chemical calculations.\n",
        "3. Use the theory of statistical mechanics to understand how the translational, vibrational, and electronic contributions to the average energy of an isolated molecule at a given temperature is calculated from molecular parameters and the single-molecule canonical partition function.\n",
        "4. Evaluate the importance of translational, rotational, and/or vibrational contributions and/or finite-temperature corrections to the thermodynamics of chemical reactions.\n",
        "5. Understand the relationship between energy, enthalpy, and Gibbs free energy.\n",
        "6. Discuss the gas-phase acidity of a molecular species in terms of its molecular structure.\n",
        "\n",
        "##Specific Objectives:\n",
        "1. Build and optimise molecules using quantum chemical calculations.\n",
        "2. Extract the energies, geometries and vibrational frequencies of conjugate acid–base pairs from quantum chemical calculations.\n",
        "2. Determine the standard Gibbs free energy change and equilibrium constant for acid ionisation in the gas phase for several acids.\n",
        "3. Compare the calculated gas-phase acidities of different acids and compare the calculated values with experimentally measured values.\n",
        "\n",
        "---\n",
        "<a name=\"cite_note-1\"></a>1. [^](#cite_ref-1)  A. Blackman, S.E. Bottle, S. Schmid, M. Mocerino, U. Wille, Chemistry (3e), Wiley, 2015.\n",
        "\n",
        "<a name=\"cite_note-2\"></a>2. [^](#cite_ref-2)  https://psicode.org\n",
        "\n",
        "<a name=\"cite_note-3\"></a>3. [^](#cite_ref-3)  https://wiki.fysik.dtu.dk/ase/\n",
        "\n",
        "<a name=\"cite_note-4\"></a>4. [^](#cite_ref-5)  D.S. Sholl, J.A. Steckel, Density Functional Theory: A Practical Introducton, Wiley-Interscience, 2009.\n",
        "\n",
        "<a name=\"cite_note-5\"></a>5. [^](#cite_ref-5)  A.G. Harrison, Mass Spectrometry Reviews 16, 201–217 (1997)"
      ],
      "metadata": {
        "id": "xKR_ohHhG3ir"
      }
    },
    {
      "cell_type": "markdown",
      "source": [
        "# A. Autoionisation of Water\n",
        "Combined geometry optimisation and vibrational frequency calculations will be performed for water and its conjugate base, the hydroxide ion, using DFT (at the _B3LYP/6-31+G(d)_ level of theory). Use the results of these calculations to calculate the change in energy, standard enthalpy, and standard Gibbs free energy for the gas- phase acid ionisation of water at 298.15 K (25$^\\circ$C)."
      ],
      "metadata": {
        "id": "jbfRH_Yr5ZiQ"
      }
    },
    {
      "cell_type": "markdown",
      "source": [
        "First we need to install the DFT codes (this will take a few minutes)"
      ],
      "metadata": {
        "id": "kDyU3_YJ7cBz"
      }
    },
    {
      "cell_type": "code",
      "source": [
        "!pip install -q condacolab"
      ],
      "metadata": {
        "id": "6GoP5nNMyqwD"
      },
      "execution_count": 1,
      "outputs": []
    },
    {
      "cell_type": "code",
      "source": [
        "import condacolab\n",
        "condacolab.install()"
      ],
      "metadata": {
        "colab": {
          "base_uri": "https://localhost:8080/"
        },
        "id": "c_x8mzXIyuL4",
        "outputId": "443f4233-afef-411e-aec5-042e8125c70e"
      },
      "execution_count": 2,
      "outputs": [
        {
          "output_type": "stream",
          "name": "stdout",
          "text": [
            "⏬ Downloading https://github.com/jaimergp/miniforge/releases/latest/download/Mambaforge-colab-Linux-x86_64.sh...\n",
            "📦 Installing...\n",
            "📌 Adjusting configuration...\n",
            "🩹 Patching environment...\n",
            "⏲ Done in 0:00:28\n",
            "🔁 Restarting kernel...\n"
          ]
        }
      ]
    },
    {
      "cell_type": "code",
      "source": [
        "! mamba install -c anaconda intel-openmp --quiet >/dev/null 2>&1\n",
        "! mamba install -c psi4 psi4 --quiet >/dev/null 2>&1\n",
        "! pip install -q ase >/dev/null 2>&1\n",
        "! pip install -q nglview >/dev/null 2>&1\n",
        "! pip install -q 'ipywidgets>=7.6.0,<8' --force-reinstall >/dev/null 2>&1"
      ],
      "metadata": {
        "id": "jqez19FQyu3r"
      },
      "execution_count": 1,
      "outputs": []
    },
    {
      "cell_type": "markdown",
      "source": [
        "The _ase_ (atomic simulation environment) library has routines for describing molecules and interfaces with DFT software."
      ],
      "metadata": {
        "id": "576ZNd9L58-Z"
      }
    },
    {
      "cell_type": "code",
      "source": [
        "from ase.build import molecule\n",
        "from ase import Atoms\n",
        "\n",
        "water = molecule('H2O')\n",
        "\n",
        "d=0.97\n",
        "ohminus = Atoms('OH', positions=([0-d/2,0,0],[0+d/2,0,0]), charges=[-1,0])\n",
        "\n",
        "hplus = molecule('H')\n",
        "hplus.set_initial_charges([+1])\n",
        "\n",
        "molecules = [water, ohminus]"
      ],
      "metadata": {
        "id": "EV6bahWx2C5u"
      },
      "execution_count": 2,
      "outputs": []
    },
    {
      "cell_type": "code",
      "source": [
        "#initalise dictionaries to save the results below\n",
        "h_results = {}\n",
        "oh_results = {}\n",
        "h2o_results = {}"
      ],
      "metadata": {
        "id": "4qtna34MVF6m"
      },
      "execution_count": 4,
      "outputs": []
    },
    {
      "cell_type": "markdown",
      "source": [
        "Computing the energy for H$^{+}$ is doesn't require any geometry optimisation (it's only one atom).\n",
        "\n",
        "The calculation parameters are loaded with the Psi4 object. Check out https://wiki.fysik.dtu.dk/ase/ase/calculators/psi4.html for the full list of options. **There is an error in the parameters below!**"
      ],
      "metadata": {
        "id": "zevQETYJ8V3L"
      }
    },
    {
      "cell_type": "code",
      "source": [
        "from ase.calculators.psi4 import Psi4\n",
        "calc = Psi4(atoms = hplus,\n",
        "            method = 'b3lyp',\n",
        "            memory = '500MB', # this is the default, be aware!\n",
        "            basis = '6-31+G(d)',\n",
        "            charge = 0,\n",
        "            multiplicity=1,\n",
        "            label = hplus.get_chemical_formula())\n",
        "\n",
        "hplus.calc = calc\n",
        "print(hplus.get_potential_energy())\n",
        "h_results['energy'] = hplus.get_potential_energy()"
      ],
      "metadata": {
        "colab": {
          "base_uri": "https://localhost:8080/",
          "height": 511
        },
        "id": "Dk1bJt6fDJ7s",
        "outputId": "63d5b1d2-3ce3-4382-a64a-7b30f8dbfc1c"
      },
      "execution_count": 7,
      "outputs": [
        {
          "output_type": "stream",
          "name": "stdout",
          "text": [
            "\n",
            "\n",
            "c: [0]\n",
            "fc: [0.0]\n",
            "m: [1]\n",
            "fm: [1]\n"
          ]
        },
        {
          "output_type": "error",
          "ename": "ValidationError",
          "evalue": "ignored",
          "traceback": [
            "\u001b[0;31m---------------------------------------------------------------------------\u001b[0m",
            "\u001b[0;31mValidationError\u001b[0m                           Traceback (most recent call last)",
            "\u001b[0;32m<ipython-input-7-decf4ce160c4>\u001b[0m in \u001b[0;36m<module>\u001b[0;34m\u001b[0m\n\u001b[1;32m      1\u001b[0m \u001b[0;32mfrom\u001b[0m \u001b[0mase\u001b[0m\u001b[0;34m.\u001b[0m\u001b[0mcalculators\u001b[0m\u001b[0;34m.\u001b[0m\u001b[0mpsi4\u001b[0m \u001b[0;32mimport\u001b[0m \u001b[0mPsi4\u001b[0m\u001b[0;34m\u001b[0m\u001b[0;34m\u001b[0m\u001b[0m\n\u001b[0;32m----> 2\u001b[0;31m calc = Psi4(atoms = hplus,\n\u001b[0m\u001b[1;32m      3\u001b[0m             \u001b[0mmethod\u001b[0m \u001b[0;34m=\u001b[0m \u001b[0;34m'b3lyp'\u001b[0m\u001b[0;34m,\u001b[0m\u001b[0;34m\u001b[0m\u001b[0;34m\u001b[0m\u001b[0m\n\u001b[1;32m      4\u001b[0m             \u001b[0mmemory\u001b[0m \u001b[0;34m=\u001b[0m \u001b[0;34m'500MB'\u001b[0m\u001b[0;34m,\u001b[0m \u001b[0;31m# this is the default, be aware!\u001b[0m\u001b[0;34m\u001b[0m\u001b[0;34m\u001b[0m\u001b[0m\n\u001b[1;32m      5\u001b[0m             \u001b[0mbasis\u001b[0m \u001b[0;34m=\u001b[0m \u001b[0;34m'6-31+G(d)'\u001b[0m\u001b[0;34m,\u001b[0m\u001b[0;34m\u001b[0m\u001b[0;34m\u001b[0m\u001b[0m\n",
            "\u001b[0;32m/usr/local/lib/python3.8/site-packages/ase/calculators/psi4.py\u001b[0m in \u001b[0;36m__init__\u001b[0;34m(self, restart, ignore_bad_restart, label, atoms, command, **kwargs)\u001b[0m\n\u001b[1;32m     44\u001b[0m         \u001b[0mself\u001b[0m\u001b[0;34m.\u001b[0m\u001b[0mpsi4\u001b[0m \u001b[0;34m=\u001b[0m \u001b[0mpsi4\u001b[0m\u001b[0;34m\u001b[0m\u001b[0;34m\u001b[0m\u001b[0m\n\u001b[1;32m     45\u001b[0m         \u001b[0;31m# perform initial setup of psi4 python API\u001b[0m\u001b[0;34m\u001b[0m\u001b[0;34m\u001b[0m\u001b[0;34m\u001b[0m\u001b[0m\n\u001b[0;32m---> 46\u001b[0;31m         \u001b[0mself\u001b[0m\u001b[0;34m.\u001b[0m\u001b[0mset_psi4\u001b[0m\u001b[0;34m(\u001b[0m\u001b[0matoms\u001b[0m\u001b[0;34m=\u001b[0m\u001b[0matoms\u001b[0m\u001b[0;34m)\u001b[0m\u001b[0;34m\u001b[0m\u001b[0;34m\u001b[0m\u001b[0m\n\u001b[0m\u001b[1;32m     47\u001b[0m \u001b[0;34m\u001b[0m\u001b[0m\n\u001b[1;32m     48\u001b[0m     \u001b[0;32mdef\u001b[0m \u001b[0mset_psi4\u001b[0m\u001b[0;34m(\u001b[0m\u001b[0mself\u001b[0m\u001b[0;34m,\u001b[0m \u001b[0matoms\u001b[0m\u001b[0;34m=\u001b[0m\u001b[0;32mNone\u001b[0m\u001b[0;34m)\u001b[0m\u001b[0;34m:\u001b[0m\u001b[0;34m\u001b[0m\u001b[0;34m\u001b[0m\u001b[0m\n",
            "\u001b[0;32m/usr/local/lib/python3.8/site-packages/ase/calculators/psi4.py\u001b[0m in \u001b[0;36mset_psi4\u001b[0;34m(self, atoms)\u001b[0m\n\u001b[1;32m    124\u001b[0m         \u001b[0;32mif\u001b[0m \u001b[0;32mnot\u001b[0m \u001b[0mos\u001b[0m\u001b[0;34m.\u001b[0m\u001b[0mpath\u001b[0m\u001b[0;34m.\u001b[0m\u001b[0misdir\u001b[0m\u001b[0;34m(\u001b[0m\u001b[0mself\u001b[0m\u001b[0;34m.\u001b[0m\u001b[0mdirectory\u001b[0m\u001b[0;34m)\u001b[0m\u001b[0;34m:\u001b[0m\u001b[0;34m\u001b[0m\u001b[0;34m\u001b[0m\u001b[0m\n\u001b[1;32m    125\u001b[0m             \u001b[0mos\u001b[0m\u001b[0;34m.\u001b[0m\u001b[0mmkdir\u001b[0m\u001b[0;34m(\u001b[0m\u001b[0mself\u001b[0m\u001b[0;34m.\u001b[0m\u001b[0mdirectory\u001b[0m\u001b[0;34m)\u001b[0m\u001b[0;34m\u001b[0m\u001b[0;34m\u001b[0m\u001b[0m\n\u001b[0;32m--> 126\u001b[0;31m         \u001b[0mself\u001b[0m\u001b[0;34m.\u001b[0m\u001b[0mmolecule\u001b[0m \u001b[0;34m=\u001b[0m \u001b[0mself\u001b[0m\u001b[0;34m.\u001b[0m\u001b[0mpsi4\u001b[0m\u001b[0;34m.\u001b[0m\u001b[0mgeometry\u001b[0m\u001b[0;34m(\u001b[0m\u001b[0;34m'\\n'\u001b[0m\u001b[0;34m.\u001b[0m\u001b[0mjoin\u001b[0m\u001b[0;34m(\u001b[0m\u001b[0mgeom\u001b[0m\u001b[0;34m)\u001b[0m\u001b[0;34m)\u001b[0m\u001b[0;34m\u001b[0m\u001b[0;34m\u001b[0m\u001b[0m\n\u001b[0m\u001b[1;32m    127\u001b[0m \u001b[0;34m\u001b[0m\u001b[0m\n\u001b[1;32m    128\u001b[0m     \u001b[0;32mdef\u001b[0m \u001b[0mread\u001b[0m\u001b[0;34m(\u001b[0m\u001b[0mself\u001b[0m\u001b[0;34m,\u001b[0m \u001b[0mlabel\u001b[0m\u001b[0;34m)\u001b[0m\u001b[0;34m:\u001b[0m\u001b[0;34m\u001b[0m\u001b[0;34m\u001b[0m\u001b[0m\n",
            "\u001b[0;32m/usr/local/lib/python3.8/site-packages/psi4/driver/molutil.py\u001b[0m in \u001b[0;36mgeometry\u001b[0;34m(geom, name)\u001b[0m\n\u001b[1;32m    257\u001b[0m \u001b[0;34m\u001b[0m\u001b[0m\n\u001b[1;32m    258\u001b[0m     \"\"\"\n\u001b[0;32m--> 259\u001b[0;31m     molrec = qcel.molparse.from_string(\n\u001b[0m\u001b[1;32m    260\u001b[0m         geom, enable_qm=True, missing_enabled_return_qm='minimal', enable_efp=True, missing_enabled_return_efp='none')\n\u001b[1;32m    261\u001b[0m \u001b[0;34m\u001b[0m\u001b[0m\n",
            "\u001b[0;32m/usr/local/lib/python3.8/site-packages/qcelemental/molparse/from_string.py\u001b[0m in \u001b[0;36mfrom_string\u001b[0;34m(molstr, dtype, name, fix_com, fix_orientation, fix_symmetry, return_processed, enable_qm, enable_efp, missing_enabled_return_qm, missing_enabled_return_efp, verbose)\u001b[0m\n\u001b[1;32m    274\u001b[0m \u001b[0;34m\u001b[0m\u001b[0m\n\u001b[1;32m    275\u001b[0m     \u001b[0;31m# << 4 >>  dict-->molspec\u001b[0m\u001b[0;34m\u001b[0m\u001b[0;34m\u001b[0m\u001b[0;34m\u001b[0m\u001b[0m\n\u001b[0;32m--> 276\u001b[0;31m     molrec = from_input_arrays(\n\u001b[0m\u001b[1;32m    277\u001b[0m         \u001b[0mspeclabel\u001b[0m\u001b[0;34m=\u001b[0m\u001b[0;32mTrue\u001b[0m\u001b[0;34m,\u001b[0m\u001b[0;34m\u001b[0m\u001b[0;34m\u001b[0m\u001b[0m\n\u001b[1;32m    278\u001b[0m         \u001b[0menable_qm\u001b[0m\u001b[0;34m=\u001b[0m\u001b[0menable_qm\u001b[0m\u001b[0;34m,\u001b[0m\u001b[0;34m\u001b[0m\u001b[0;34m\u001b[0m\u001b[0m\n",
            "\u001b[0;32m/usr/local/lib/python3.8/site-packages/qcelemental/molparse/from_arrays.py\u001b[0m in \u001b[0;36mfrom_input_arrays\u001b[0;34m(enable_qm, enable_efp, missing_enabled_return_qm, missing_enabled_return_efp, geom, elea, elez, elem, mass, real, elbl, name, units, input_units_to_au, fix_com, fix_orientation, fix_symmetry, fragment_separators, fragment_charges, fragment_multiplicities, molecular_charge, molecular_multiplicity, fragment_files, hint_types, geom_hints, geom_unsettled, variables, speclabel, tooclose, zero_ghost_fragments, nonphysical, mtol, copy, verbose)\u001b[0m\n\u001b[1;32m     95\u001b[0m     \u001b[0;32mif\u001b[0m \u001b[0menable_qm\u001b[0m\u001b[0;34m:\u001b[0m\u001b[0;34m\u001b[0m\u001b[0;34m\u001b[0m\u001b[0m\n\u001b[1;32m     96\u001b[0m         \u001b[0mdm\u001b[0m \u001b[0;34m=\u001b[0m \u001b[0;34m\"qmvz\"\u001b[0m \u001b[0;32mif\u001b[0m \u001b[0mgeom_unsettled\u001b[0m \u001b[0;32melse\u001b[0m \u001b[0;34m\"qm\"\u001b[0m\u001b[0;34m\u001b[0m\u001b[0;34m\u001b[0m\u001b[0m\n\u001b[0;32m---> 97\u001b[0;31m         processed = from_arrays(\n\u001b[0m\u001b[1;32m     98\u001b[0m             \u001b[0mdomain\u001b[0m\u001b[0;34m=\u001b[0m\u001b[0mdm\u001b[0m\u001b[0;34m,\u001b[0m\u001b[0;34m\u001b[0m\u001b[0;34m\u001b[0m\u001b[0m\n\u001b[1;32m     99\u001b[0m             \u001b[0mmissing_enabled_return\u001b[0m\u001b[0;34m=\u001b[0m\u001b[0mmissing_enabled_return_qm\u001b[0m\u001b[0;34m,\u001b[0m\u001b[0;34m\u001b[0m\u001b[0;34m\u001b[0m\u001b[0m\n",
            "\u001b[0;32m/usr/local/lib/python3.8/site-packages/qcelemental/molparse/from_arrays.py\u001b[0m in \u001b[0;36mfrom_arrays\u001b[0;34m(geom, elea, elez, elem, mass, real, elbl, name, units, input_units_to_au, fix_com, fix_orientation, fix_symmetry, fragment_separators, fragment_charges, fragment_multiplicities, molecular_charge, molecular_multiplicity, comment, provenance, connectivity, fragment_files, hint_types, geom_hints, geom_unsettled, variables, domain, missing_enabled_return, np_out, speclabel, tooclose, zero_ghost_fragments, nonphysical, mtol, copy, verbose)\u001b[0m\n\u001b[1;32m    378\u001b[0m \u001b[0;34m\u001b[0m\u001b[0m\n\u001b[1;32m    379\u001b[0m         \u001b[0mZ_available\u001b[0m \u001b[0;34m=\u001b[0m \u001b[0mmolinit\u001b[0m\u001b[0;34m[\u001b[0m\u001b[0;34m\"elez\"\u001b[0m\u001b[0;34m]\u001b[0m \u001b[0;34m*\u001b[0m \u001b[0mmolinit\u001b[0m\u001b[0;34m[\u001b[0m\u001b[0;34m\"real\"\u001b[0m\u001b[0;34m]\u001b[0m \u001b[0;34m*\u001b[0m \u001b[0;36m1.0\u001b[0m\u001b[0;34m\u001b[0m\u001b[0;34m\u001b[0m\u001b[0m\n\u001b[0;32m--> 380\u001b[0;31m         processed = validate_and_fill_chgmult(\n\u001b[0m\u001b[1;32m    381\u001b[0m             \u001b[0mzeff\u001b[0m\u001b[0;34m=\u001b[0m\u001b[0mZ_available\u001b[0m\u001b[0;34m,\u001b[0m\u001b[0;34m\u001b[0m\u001b[0;34m\u001b[0m\u001b[0m\n\u001b[1;32m    382\u001b[0m             \u001b[0mfragment_separators\u001b[0m\u001b[0;34m=\u001b[0m\u001b[0mmolinit\u001b[0m\u001b[0;34m[\u001b[0m\u001b[0;34m\"fragment_separators\"\u001b[0m\u001b[0;34m]\u001b[0m\u001b[0;34m,\u001b[0m\u001b[0;34m\u001b[0m\u001b[0;34m\u001b[0m\u001b[0m\n",
            "\u001b[0;32m/usr/local/lib/python3.8/site-packages/qcelemental/molparse/chgmult.py\u001b[0m in \u001b[0;36mvalidate_and_fill_chgmult\u001b[0;34m(zeff, fragment_separators, molecular_charge, fragment_charges, molecular_multiplicity, fragment_multiplicities, zero_ghost_fragments, verbose)\u001b[0m\n\u001b[1;32m    499\u001b[0m     \u001b[0;31m#      long in the itertools.product\u001b[0m\u001b[0;34m\u001b[0m\u001b[0;34m\u001b[0m\u001b[0;34m\u001b[0m\u001b[0m\n\u001b[1;32m    500\u001b[0m \u001b[0;34m\u001b[0m\u001b[0m\n\u001b[0;32m--> 501\u001b[0;31m     \u001b[0mc_final\u001b[0m\u001b[0;34m,\u001b[0m \u001b[0mfc_final\u001b[0m\u001b[0;34m,\u001b[0m \u001b[0mm_final\u001b[0m\u001b[0;34m,\u001b[0m \u001b[0mfm_final\u001b[0m \u001b[0;34m=\u001b[0m \u001b[0mreconcile\u001b[0m\u001b[0;34m(\u001b[0m\u001b[0mcgmp_exact_c\u001b[0m\u001b[0;34m,\u001b[0m \u001b[0mcgmp_exact_fc\u001b[0m\u001b[0;34m,\u001b[0m \u001b[0mcgmp_exact_m\u001b[0m\u001b[0;34m,\u001b[0m \u001b[0mcgmp_exact_fm\u001b[0m\u001b[0;34m)\u001b[0m\u001b[0;34m\u001b[0m\u001b[0;34m\u001b[0m\u001b[0m\n\u001b[0m\u001b[1;32m    502\u001b[0m \u001b[0;34m\u001b[0m\u001b[0m\n\u001b[1;32m    503\u001b[0m     \u001b[0mc_text\u001b[0m \u001b[0;34m=\u001b[0m \u001b[0mstringify\u001b[0m\u001b[0;34m(\u001b[0m\u001b[0mmolecular_charge\u001b[0m\u001b[0;34m,\u001b[0m \u001b[0mc_final\u001b[0m\u001b[0;34m)\u001b[0m\u001b[0;34m\u001b[0m\u001b[0;34m\u001b[0m\u001b[0m\n",
            "\u001b[0;32m/usr/local/lib/python3.8/site-packages/qcelemental/molparse/chgmult.py\u001b[0m in \u001b[0;36mreconcile\u001b[0;34m(exact_c, exact_fc, exact_m, exact_fm)\u001b[0m\n\u001b[1;32m    489\u001b[0m         \u001b[0;32mif\u001b[0m \u001b[0mverbose\u001b[0m \u001b[0;34m>\u001b[0m \u001b[0;34m-\u001b[0m\u001b[0;36m1\u001b[0m\u001b[0;34m:\u001b[0m\u001b[0;34m\u001b[0m\u001b[0;34m\u001b[0m\u001b[0m\n\u001b[1;32m    490\u001b[0m             \u001b[0mprint\u001b[0m\u001b[0;34m(\u001b[0m\u001b[0;34m\"\\n\\n\"\u001b[0m \u001b[0;34m+\u001b[0m \u001b[0;34m\"\\n\"\u001b[0m\u001b[0;34m.\u001b[0m\u001b[0mjoin\u001b[0m\u001b[0;34m(\u001b[0m\u001b[0mtext\u001b[0m\u001b[0;34m)\u001b[0m\u001b[0;34m)\u001b[0m\u001b[0;34m\u001b[0m\u001b[0;34m\u001b[0m\u001b[0m\n\u001b[0;32m--> 491\u001b[0;31m         \u001b[0;32mraise\u001b[0m \u001b[0mValidationError\u001b[0m\u001b[0;34m(\u001b[0m\u001b[0merr\u001b[0m\u001b[0;34m)\u001b[0m\u001b[0;34m\u001b[0m\u001b[0;34m\u001b[0m\u001b[0m\n\u001b[0m\u001b[1;32m    492\u001b[0m \u001b[0;34m\u001b[0m\u001b[0m\n\u001b[1;32m    493\u001b[0m     \u001b[0;32mdef\u001b[0m \u001b[0mstringify\u001b[0m\u001b[0;34m(\u001b[0m\u001b[0mstart\u001b[0m\u001b[0;34m,\u001b[0m \u001b[0mfinal\u001b[0m\u001b[0;34m)\u001b[0m\u001b[0;34m:\u001b[0m\u001b[0;34m\u001b[0m\u001b[0;34m\u001b[0m\u001b[0m\n",
            "\u001b[0;31mValidationError\u001b[0m: Inconsistent or unspecified chg/mult: sys chg: None, frag chg: [0.0], sys mult: None, frag mult: [1]"
          ]
        }
      ]
    },
    {
      "cell_type": "markdown",
      "source": [
        "__What is the energy for H$^+$ and in which units?__\n",
        "\n",
        " Answer:"
      ],
      "metadata": {
        "id": "8QOBYjqk-YSc"
      }
    },
    {
      "cell_type": "markdown",
      "source": [
        "For molecules we need to first optimise the atom positions to find the lowest energy positons. The calculation optimises the molecular structure through a series of geometry optimisation steps."
      ],
      "metadata": {
        "id": "29Z2rBZ49vLr"
      }
    },
    {
      "cell_type": "code",
      "source": [
        "from ase.calculators.psi4 import Psi4\n",
        "from ase.build import molecule\n",
        "import numpy as np\n",
        "from ase.optimize import QuasiNewton\n",
        "\n",
        "optimised_molecules = []\n",
        "for atoms in molecules:\n",
        "  print(atoms.get_chemical_formula())\n",
        "  calc = Psi4(atoms = atoms,\n",
        "        method = 'b3lyp',\n",
        "        memory = '500MB', # this is the default, be aware!\n",
        "        basis = '6-31+G(d)',\n",
        "\n",
        "        charge = np.sum(atoms.get_initial_charges()),\n",
        "        multiplicity=1,\n",
        "        label = atoms.get_chemical_formula())\n",
        "\n",
        "  atoms.calc = calc\n",
        "\n",
        "  QuasiNewton(atoms).run(fmax=0.0005)\n",
        "\n",
        "  #save results\n",
        "  if atoms.get_chemical_formula() == 'HO':\n",
        "      oh_results['energy'] = atoms.get_potential_energy()\n",
        "  if atoms.get_chemical_formula() == 'H2O':\n",
        "      h2o_results['energy'] = atoms.get_potential_energy()\n",
        "  print(atoms.get_potential_energy())\n",
        "  optimised_molecules.append(atoms)"
      ],
      "metadata": {
        "colab": {
          "base_uri": "https://localhost:8080/"
        },
        "id": "Pf25cQL23Qmj",
        "outputId": "a13dcd97-9c80-40e9-a924-23a74c0bc7ff"
      },
      "execution_count": 8,
      "outputs": [
        {
          "output_type": "stream",
          "name": "stdout",
          "text": [
            "H2O\n",
            "                Step[ FC]     Time          Energy          fmax\n",
            "BFGSLineSearch:    0[  0] 06:48:35    -2079.562595        0.1365\n",
            "BFGSLineSearch:    1[  2] 06:48:46    -2079.564058        0.0820\n",
            "BFGSLineSearch:    2[  4] 06:48:54    -2079.564177        0.0003\n",
            "-2079.5641771730634\n",
            "HO\n",
            "                Step[ FC]     Time          Energy          fmax\n",
            "BFGSLineSearch:    0[  0] 06:49:01    -2062.532144        0.2308\n",
            "BFGSLineSearch:    1[  2] 06:49:12    -2062.532703        0.0012\n",
            "BFGSLineSearch:    2[  3] 06:49:17    -2062.532703        0.0000\n",
            "-2062.532702910965\n"
          ]
        }
      ]
    },
    {
      "cell_type": "markdown",
      "source": [
        " __What is the convergence criteria used here (Don't forget the units)?__\n",
        "\n",
        " Answer:\n",
        "\n",
        "  __What optimiser is used here and what alternatives are there?__\n",
        "\n",
        " Answer:"
      ],
      "metadata": {
        "id": "25g2leaA_Q0w"
      }
    },
    {
      "cell_type": "markdown",
      "source": [
        "The output displayed is only a snapshot of important quantities. The files _H.dat_, _HO.dat_ and _H20.dat_ have the raw output from the _Psi4_ sofware. Check the files tab on the left side of the browser.\n",
        "\n",
        "__Open the *H2O.dat* file and search the detailed ouput. Which point group symmetry is used here?__\n",
        "\n",
        "Answer:"
      ],
      "metadata": {
        "id": "5utaRnVAAhLB"
      }
    },
    {
      "cell_type": "markdown",
      "source": [
        "Using the harmonic oscilator approximation the vibrational degrees of freedom (normal modes) of these molecules can be computed."
      ],
      "metadata": {
        "id": "V-gB-tVUG10D"
      }
    },
    {
      "cell_type": "code",
      "source": [
        "from ase.vibrations import Vibrations\n",
        "#save the results in a list for later processing\n",
        "vibs = []\n",
        "for atoms in optimised_molecules:\n",
        "  print(atoms.get_chemical_formula())\n",
        "  vib = Vibrations(atoms, name=atoms.get_chemical_formula(), delta=0.01)\n",
        "  vib.clean()\n",
        "  vib.run()\n",
        "  vib.write_mode(0)\n",
        "  vib.write_mode(-1)\n",
        "  vib.summary()\n",
        "  vibs.append(vib)\n"
      ],
      "metadata": {
        "colab": {
          "base_uri": "https://localhost:8080/"
        },
        "id": "a3ZDwsR85ipz",
        "outputId": "b05e8287-fd50-4773-e911-5f4834cceceb"
      },
      "execution_count": 9,
      "outputs": [
        {
          "output_type": "stream",
          "name": "stdout",
          "text": [
            "H2O\n",
            "---------------------\n",
            "  #    meV     cm^-1\n",
            "---------------------\n",
            "  0    6.3i     51.1i\n",
            "  1    0.3i      2.8i\n",
            "  2    0.2i      1.6i\n",
            "  3    0.1       0.8\n",
            "  4    3.3      26.7\n",
            "  5    3.4      27.6\n",
            "  6  206.0    1661.8\n",
            "  7  463.2    3736.1\n",
            "  8  478.6    3860.4\n",
            "---------------------\n",
            "Zero-point energy: 0.577 eV\n",
            "HO\n",
            "---------------------\n",
            "  #    meV     cm^-1\n",
            "---------------------\n",
            "  0    0.0i      0.0i\n",
            "  1    0.0i      0.0i\n",
            "  2    0.0i      0.0i\n",
            "  3    3.3      26.7\n",
            "  4    3.3      26.7\n",
            "  5  453.3    3656.3\n",
            "---------------------\n",
            "Zero-point energy: 0.230 eV\n"
          ]
        }
      ]
    },
    {
      "cell_type": "markdown",
      "source": [
        "The modes as displayed include translational and rotational movements that leads low energy negative frequences, these can be ignored."
      ],
      "metadata": {
        "id": "wB4Ucs3eH2Dh"
      }
    },
    {
      "cell_type": "markdown",
      "source": [
        "The trajectory of the 0th mode was saved (_H2O.0.traj_) and you can view this using the _view_ routine in _ase__:"
      ],
      "metadata": {
        "id": "zs7lVPKjIufi"
      }
    },
    {
      "cell_type": "code",
      "source": [
        "from google.colab import output\n",
        "output.enable_custom_widget_manager()\n",
        "\n",
        "from ase.visualize import view\n",
        "from ase.io import read\n",
        "atoms = read('/content/H2O.0.traj', index=\":\")\n",
        "view(atoms, viewer='ngl')"
      ],
      "metadata": {
        "colab": {
          "base_uri": "https://localhost:8080/",
          "height": 517,
          "referenced_widgets": [
            "ffdea256f93b4c75aedcf272d2b64ba0",
            "259d2fb22f9145058568335d97152b7e",
            "8a616200d9e24d05ad831508fe7dde4c",
            "a7b25f2c299349a48538e32331046188",
            "4718084bfda548e38f19dea1f4fa5516",
            "f597d710ae5941038553c2d53fafb94d",
            "b60519290f7a4bfbaa5e25eac6af7f6d",
            "0fe1ad7201724685b379441e52a650e1",
            "44d6f7732b554c03adc43841b45bdbde",
            "67f815c676c64ff2bb64207197f74066",
            "8798dc2824914c37b653fe1bbedd77f4",
            "ab72e73a0df34a4aabe5a961d6b7d686",
            "fc42255ab5b145d7851a5580b27bc50b",
            "750366b9ff13469897ebcd0dfc3ac945",
            "5af9e505b382414790244c00c1c57946",
            "2e8e594ddf844fa79239c34001e9e8f1",
            "02651dd3066a4a20b72a67ea4f5c972c",
            "19d1038215264f3790ca61012d6799e5",
            "79b019a0fb8a418b80876b752c3cfae8",
            "da7efa35570c49cca3a7e2ec17f6b122",
            "5a1d002549f14dbfb9d0b63fa7353879",
            "fd537fe5c24a4182a6c1e5220be11a60",
            "9158b664b1f64df8ad050e819eef0cea",
            "672b85faef9b401db22bda2e645190d1",
            "1d7ea65a0be045cfa77c8080e5a9544f",
            "5fba58045bc449ca9f38577fa8b9350a",
            "44f4ea08d2554f62a529d7c5840cab8e",
            "5cf41da7ec544de9b71892b6060c2b5a",
            "f8a2bb121b9b462180f26f708364da62",
            "12f2330e757a43f6b525ca1450a44364",
            "79f040a46c8b4cec833bd1df8f10b2ca"
          ]
        },
        "id": "Q4lZaP1r7_hP",
        "outputId": "429f2861-8453-4fd2-d4cd-e29f9b30b7b6"
      },
      "execution_count": 10,
      "outputs": [
        {
          "output_type": "display_data",
          "data": {
            "text/plain": [],
            "application/vnd.jupyter.widget-view+json": {
              "version_major": 2,
              "version_minor": 0,
              "model_id": "ffdea256f93b4c75aedcf272d2b64ba0"
            }
          },
          "metadata": {
            "application/vnd.jupyter.widget-view+json": {
              "colab": {
                "custom_widget_manager": {
                  "url": "https://ssl.gstatic.com/colaboratory-static/widgets/colab-cdn-widget-manager/b3e629b1971e1542/manager.min.js"
                }
              }
            }
          }
        },
        {
          "output_type": "display_data",
          "data": {
            "text/plain": [
              "HBox(children=(NGLWidget(max_frame=29), VBox(children=(Dropdown(description='Show', options=('All', 'O', 'H'),…"
            ],
            "application/vnd.jupyter.widget-view+json": {
              "version_major": 2,
              "version_minor": 0,
              "model_id": "f8a2bb121b9b462180f26f708364da62"
            }
          },
          "metadata": {
            "application/vnd.jupyter.widget-view+json": {
              "colab": {
                "custom_widget_manager": {
                  "url": "https://ssl.gstatic.com/colaboratory-static/widgets/colab-cdn-widget-manager/b3e629b1971e1542/manager.min.js"
                }
              }
            }
          }
        }
      ]
    },
    {
      "cell_type": "markdown",
      "source": [
        "__What do the 8th vibrational mode of H2O and the 5th mode of HO relate to?__.\n",
        "_You may need to clear the output of the above cell_"
      ],
      "metadata": {
        "id": "ApbzV6ayJg1G"
      }
    },
    {
      "cell_type": "markdown",
      "source": [
        "_Answer:_"
      ],
      "metadata": {
        "id": "Gy9H6kWQTbPd"
      }
    },
    {
      "cell_type": "markdown",
      "source": [
        "The _thermochemistry_ routines of ASE can be used to compute several thermodynamic quantites from the normal modes using the ideal gas approximation. An example for H2O is shown below: "
      ],
      "metadata": {
        "id": "8yTeqsMBZD9X"
      }
    },
    {
      "cell_type": "code",
      "source": [
        "from ase.thermochemistry import IdealGasThermo\n",
        "# the 0th entry is h2o\n",
        "atoms = optimised_molecules[0]\n",
        "potentialenergy = atoms.get_potential_energy()\n",
        "vib = vibs[0]\n",
        "vib_energies = vib.get_energies()\n",
        "\n",
        "\n",
        "thermo = IdealGasThermo(vib_energies=vib_energies,\n",
        "                        potentialenergy=potentialenergy,\n",
        "                        atoms=atoms,\n",
        "                        geometry='linear',\n",
        "                        symmetrynumber=2, spin=0)\n",
        "G = thermo.get_gibbs_energy(temperature=298.15, pressure=101325.)\n",
        "H = thermo.get_enthalpy(temperature=298.15, verbose=False)\n",
        "S = thermo.get_entropy(temperature=298.15, pressure=101325., verbose=False)\n",
        "h2o_results['gibbs_energy'] = G\n",
        "h2o_results['enthalpy'] = H\n",
        "h2o_results['entropy'] = S"
      ],
      "metadata": {
        "id": "7hs7P75iZ_ZR",
        "outputId": "53839447-3c8a-4885-b6a8-1d84802547b6",
        "colab": {
          "base_uri": "https://localhost:8080/"
        }
      },
      "execution_count": 11,
      "outputs": [
        {
          "output_type": "stream",
          "name": "stdout",
          "text": [
            "Enthalpy components at T = 298.15 K:\n",
            "===============================\n",
            "E_pot              -2079.564 eV\n",
            "E_ZPE                  0.576 eV\n",
            "Cv_trans (0->T)        0.039 eV\n",
            "Cv_rot (0->T)          0.026 eV\n",
            "Cv_vib (0->T)          0.024 eV\n",
            "(C_v -> C_p)           0.026 eV\n",
            "-------------------------------\n",
            "H                  -2078.875 eV\n",
            "===============================\n",
            "\n",
            "Entropy components at T = 298.15 K and P = 101325.0 Pa:\n",
            "=================================================\n",
            "                           S               T*S\n",
            "S_trans (1 bar)    0.0015019 eV/K        0.448 eV\n",
            "S_rot              0.0002940 eV/K        0.088 eV\n",
            "S_elec             0.0000000 eV/K        0.000 eV\n",
            "S_vib              0.0002601 eV/K        0.078 eV\n",
            "S (1 bar -> P)    -0.0000011 eV/K       -0.000 eV\n",
            "-------------------------------------------------\n",
            "S                  0.0020549 eV/K        0.613 eV\n",
            "=================================================\n",
            "\n",
            "Free energy components at T = 298.15 K and P = 101325.0 Pa:\n",
            "=======================\n",
            "    H      -2078.875 eV\n",
            " -T*S         -0.613 eV\n",
            "-----------------------\n",
            "    G      -2079.487 eV\n",
            "=======================\n"
          ]
        }
      ]
    },
    {
      "cell_type": "markdown",
      "source": [
        "__Confirm that the average translation energy (described here as translational heat capacity Cv) is described by Eq. 9 (Appendix):__\n",
        "\n",
        "$<ɛ_T> = -\\frac{1}{q_T}(\\frac{∂q_T}{∂β})_{N,V} \\approx \\frac{3}{2}k_BT$"
      ],
      "metadata": {
        "id": "JTSESP5ydFz0"
      }
    },
    {
      "cell_type": "code",
      "source": [
        "#answer goes here"
      ],
      "metadata": {
        "id": "Y73-eWnad9uh"
      },
      "execution_count": null,
      "outputs": []
    },
    {
      "cell_type": "markdown",
      "source": [
        "__Compute the same thermodynamic quanties (gibbs energy, enthalpy and entropy) for OH$^-$ and H$^+$.__"
      ],
      "metadata": {
        "id": "-nIlpARuegcV"
      }
    },
    {
      "cell_type": "code",
      "source": [
        "#answer for OH-"
      ],
      "metadata": {
        "id": "C9JxUCgHlVk8"
      },
      "execution_count": null,
      "outputs": []
    },
    {
      "cell_type": "code",
      "source": [
        "#answer for H+ (Hint!: consider the 'geometry' parameter and set vib.energies to an empty list [])"
      ],
      "metadata": {
        "id": "Y33niaF5lV6A"
      },
      "execution_count": null,
      "outputs": []
    },
    {
      "cell_type": "markdown",
      "source": [
        "At this point you should have three dictionaries _h\\_results_, _oh\\_results_ and _h2o\\_results_ that includes the electronic energy, enthalpy and entropy of these species.\n",
        "\n",
        "__Calculate the change in electronic energy $\\Delta$E, the change in enthalpy $\\Delta$H, the entropy contribution T$\\Delta$S, and the Gibbs free energy change $\\Delta$G for the reaction (Eqns 23-27):__\n",
        "\n",
        "H$_2$O $⟶$ OH$^{-}$ + H$^+$ \n"
      ],
      "metadata": {
        "id": "ueRvKoMIlv4_"
      }
    },
    {
      "cell_type": "code",
      "source": [
        "#answer for deltaE"
      ],
      "metadata": {
        "id": "NCKn1xWKrK5G"
      },
      "execution_count": null,
      "outputs": []
    },
    {
      "cell_type": "code",
      "source": [
        "#answer for deltaH"
      ],
      "metadata": {
        "id": "cpwmslY7rN5v"
      },
      "execution_count": null,
      "outputs": []
    },
    {
      "cell_type": "code",
      "source": [
        "#answer for deltaS"
      ],
      "metadata": {
        "id": "olksduGqrXrD"
      },
      "execution_count": null,
      "outputs": []
    },
    {
      "cell_type": "code",
      "source": [
        "#answer for deltaG"
      ],
      "metadata": {
        "id": "0nH17Zl8rbBW"
      },
      "execution_count": null,
      "outputs": []
    },
    {
      "cell_type": "markdown",
      "source": [
        "__Calculate K$_a$ and pK$_a$ at 298.15 K for the acid-ionisation reaction H2O ⇌ H$^+$ + OH$^-$ (Eqns 1 and 2 of this preamble). Discuss how this compares with the experimentally determined value and why it might differ.__"
      ],
      "metadata": {
        "id": "-oWVqA24roI8"
      }
    },
    {
      "cell_type": "code",
      "source": [
        "#answer for Ka"
      ],
      "metadata": {
        "id": "hcWFWNMqr_hF"
      },
      "execution_count": null,
      "outputs": []
    },
    {
      "cell_type": "code",
      "source": [
        "#answer for pKa"
      ],
      "metadata": {
        "id": "8heeYFTKsCDD"
      },
      "execution_count": null,
      "outputs": []
    },
    {
      "cell_type": "markdown",
      "source": [
        "_Your discussion_"
      ],
      "metadata": {
        "id": "CsNQo7CUsFus"
      }
    }
  ]
}